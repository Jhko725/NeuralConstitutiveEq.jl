{
 "cells": [
  {
   "cell_type": "code",
   "execution_count": 159,
   "metadata": {
    "collapsed": true,
    "deletable": true,
    "editable": true
   },
   "outputs": [],
   "source": [
    "import sys\n",
    "sys.path.insert(0, \"..\")\n",
    "\n",
    "import numpy as np\n",
    "import matplotlib.pyplot as plt"
   ]
  },
  {
   "cell_type": "markdown",
   "metadata": {
    "deletable": true,
    "editable": true
   },
   "source": [
    "# Continuous Spectrum"
   ]
  },
  {
   "cell_type": "code",
<<<<<<< HEAD
   "execution_count": 160,
=======
   "execution_count": 2,
>>>>>>> 95e26d3c030595e96296d597da8eb99a4ba541c4
   "metadata": {
    "collapsed": false,
    "deletable": true,
    "editable": true
   },
   "outputs": [],
   "source": [
    "# import ContSpect interactively; this does not run anything!\n",
    "import contSpec as cs\n",
    "import common"
   ]
  },
  {
   "cell_type": "markdown",
   "metadata": {
    "deletable": true,
    "editable": true
   },
   "source": [
    "Before starting work on the interactive mode, run the full calculation once."
   ]
  },
  {
   "cell_type": "code",
<<<<<<< HEAD
   "execution_count": 161,
=======
   "execution_count": 3,
>>>>>>> 95e26d3c030595e96296d597da8eb99a4ba541c4
   "metadata": {
    "collapsed": false,
    "deletable": true,
    "editable": true
   },
   "outputs": [
    {
     "name": "stdout",
     "output_type": "stream",
     "text": [
      "\n",
      "(*) Start\n",
<<<<<<< HEAD
      "(*) Loading Data File: tests/test...\n",
      "(*) Initial Set up...\t(0.6 seconds)\n",
      "(*) Building the L-curve ...(4.0 seconds)\n",
      "(*) Extracting CRS, ...\n",
      "\t... lamC = 2.207e+00; done (0.1 seconds)\n",
      "(*) Writing and Printing, ...done\n",
      "(*) End\n",
      "\n"
=======
      "(*) Loading Data File: tests/test...\n"
>>>>>>> 95e26d3c030595e96296d597da8eb99a4ba541c4
     ]
    },
    {
     "data": {
      "text/plain": [
       "(100,)"
      ]
     },
     "execution_count": 3,
     "metadata": {},
     "output_type": "execute_result"
    }
   ],
   "source": [
    "# This runs the code in regular form using inp.dat\n",
    "par = common.readInput('inp.dat')\n",
    "out = cs.getContSpec2(par)\n",
    "out[2].shape\n",
    "#par"
   ]
  },
  {
   "cell_type": "code",
   "execution_count": 4,
   "metadata": {},
   "outputs": [
    {
     "data": {
      "text/plain": [
       "{'GexpFile': 'tests/test',\n",
       " 'plateau': False,\n",
       " 'verbose': True,\n",
       " 'plotting': True,\n",
       " 'ns': 200,\n",
       " 'lamC': 0,\n",
       " 'SmFacLam': 0,\n",
       " 'FreqEnd': 1,\n",
       " 'MaxNumModes': 0,\n",
       " 'lam_min': 1e-10,\n",
       " 'lam_max': 1000.0,\n",
       " 'lamDensity': 2,\n",
       " 'rho_cutoff': 0,\n",
       " 'deltaBaseWeightDist': 0.2,\n",
       " 'minTauSpacing': 1.25}"
      ]
     },
     "execution_count": 4,
     "metadata": {},
     "output_type": "execute_result"
    }
   ],
   "source": [
    "par"
   ]
  },
  {
   "cell_type": "code",
   "execution_count": 4,
   "metadata": {},
   "outputs": [
    {
     "name": "stdout",
     "output_type": "stream",
     "text": [
      "Interpolating t, G to 100 points\n"
     ]
    }
   ],
   "source": [
    "from neuralconstitutive.pyRespect import estimate_continous_spectrum\n",
    "\n",
    "data = np.genfromtxt(par[\"GexpFile\"])\n",
    "H, _ = estimate_continous_spectrum(data[:,0], data[:,1], n_spectrum_points=200)"
   ]
  },
  {
   "cell_type": "code",
   "execution_count": 5,
   "metadata": {},
   "outputs": [
    {
     "data": {
      "text/plain": [
       "[<matplotlib.lines.Line2D at 0x7f55b35ef2d0>]"
      ]
     },
     "execution_count": 5,
     "metadata": {},
     "output_type": "execute_result"
    },
    {
     "data": {
      "image/png": "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",
      "text/plain": [
       "<Figure size 640x480 with 1 Axes>"
      ]
     },
     "metadata": {},
     "output_type": "display_data"
    }
   ],
   "source": [
    "plt.plot(H)"
   ]
  },
  {
   "cell_type": "code",
   "execution_count": 162,
   "metadata": {
    "collapsed": true,
    "deletable": true,
    "editable": true
   },
   "outputs": [
    {
     "data": {
      "text/plain": [
       "<Figure size 432x288 with 0 Axes>"
      ]
     },
     "metadata": {},
     "output_type": "display_data"
    }
   ],
   "source": [
    "s, t, kernMat, Gexp, par, lam, rho, eta = cs.guiFurnishGlobals(par)"
   ]
  },
  {
   "cell_type": "markdown",
   "metadata": {
    "deletable": true,
    "editable": true
   },
   "source": [
    "Currently all the variables assigned in the jupyter notebook are visible as global to to guiUpdatePlot."
   ]
  },
  {
   "cell_type": "markdown",
   "metadata": {
    "deletable": true,
    "editable": true
   },
   "source": [
    "### Interactivity"
   ]
  },
  {
   "cell_type": "code",
   "execution_count": 154,
   "metadata": {
    "collapsed": false,
    "deletable": true,
    "editable": true
   },
   "outputs": [],
   "source": [
    "from ipywidgets import interact, fixed\n",
    "import ipywidgets as widgets"
   ]
  },
  {
   "cell_type": "code",
   "execution_count": 12,
   "metadata": {
    "collapsed": true,
    "deletable": true,
    "editable": true
   },
   "outputs": [],
   "source": [
    "def guiUpdatePlot(SmoothFac):\n",
    "    \"\"\"use slider SmoothFac to interactively look at effect\"\"\"\n",
    "    lam_min  = 1e-10\n",
    "    lam_max  = 1e+1\n",
    "\n",
    "    # Dialling in the Smoothness Factor\n",
    "    if SmoothFac > 0:\n",
    "        lamda = np.exp(np.log(lamC) + SmoothFac*(np.log(lam_max) - np.log(lamC)));\n",
    "    elif SmoothFac < 0:\n",
    "        lamda = np.exp(np.log(lamC) + SmoothFac*(np.log(lamC) - np.log(lam_min)));\n",
    "    else:\n",
    "        lamda = lamC\n",
    "\n",
    "    fig, ax = plt.subplots(figsize=(12,4), nrows=1, ncols=3)\n",
    "\n",
    "    # plotsInteractivity\n",
    "\n",
    "    H     = cs.getH(lamda, Gexp, Hc, kernMat)\n",
    "    K     = common.kernel_prestore(H, kernMat)\n",
    "    rhost = np.exp(np.interp(np.log(lamC), np.log(lam), np.log(rho)))\n",
    "    etast = np.exp(np.interp(np.log(lamC), np.log(lam), np.log(eta)))\n",
    "\n",
    "    rhox = np.exp(np.interp(np.log(lamda), np.log(lam), np.log(rho)))\n",
    "    etax = np.exp(np.interp(np.log(lamda), np.log(lam), np.log(eta)))\n",
    "\n",
    "    ax[0].loglog(t, Gexp,'o',t, K, 'k-')\n",
    "    ax[0].set_xlabel(r'$t$')\n",
    "    ax[0].set_ylabel(r'$G(t)$')\n",
    "\n",
    "    ax[1].semilogx(s,H,'o-')\n",
    "    ax[1].set_xlabel(r'$s$')\n",
    "    ax[1].set_ylabel(r'$H(s)$')\n",
    "\n",
    "    ax[2].plot(rho, eta, 'x-')\n",
    "    ax[2].scatter(rhost, etast, color='k')\n",
    "    ax[2].scatter(rhox, etax, color='g')\n",
    "\n",
    "    ax[2].set_xscale('log')\n",
    "    ax[2].set_yscale('log')    \n",
    "\n",
    "    ax[2].set_xlabel(r'$\\rho$')\n",
    "    ax[2].set_ylabel(r'$\\eta$')\n",
    "\n",
    "    # figure settings\n",
    "    fig.tight_layout()\n",
    "\n",
    "    plt.show()\n",
    "\n",
    "    return"
   ]
  },
  {
   "cell_type": "code",
   "execution_count": 9,
   "metadata": {
    "collapsed": false,
    "deletable": true,
    "editable": true
   },
   "outputs": [
    {
     "data": {
      "application/vnd.jupyter.widget-view+json": {
       "model_id": "458b9e2ad91a4674ba51c4a4470d082c"
      }
     },
     "metadata": {},
     "output_type": "display_data"
    },
    {
     "data": {
      "text/plain": [
       "<function __main__.guiUpdatePlot>"
      ]
     },
     "execution_count": 9,
     "metadata": {},
     "output_type": "execute_result"
    }
   ],
   "source": [
    "interact(guiUpdatePlot, SmoothFac=widgets.FloatSlider(min=-1, max=1, value=0, step=0.05, continuous_update=False))"
   ]
  },
  {
   "cell_type": "code",
   "execution_count": null,
   "metadata": {
    "collapsed": true
   },
   "outputs": [],
   "source": []
  }
 ],
 "metadata": {
  "kernelspec": {
   "display_name": "Python 3",
   "language": "python",
   "name": "python3"
  },
  "language_info": {
   "codemirror_mode": {
    "name": "ipython",
    "version": 3
   },
   "file_extension": ".py",
   "mimetype": "text/x-python",
   "name": "python",
   "nbconvert_exporter": "python",
   "pygments_lexer": "ipython3",
   "version": "3.11.5"
  }
 },
 "nbformat": 4,
 "nbformat_minor": 2
}
