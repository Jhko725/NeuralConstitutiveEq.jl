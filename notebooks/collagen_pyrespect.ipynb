{
 "cells": [
  {
   "cell_type": "code",
   "execution_count": null,
   "metadata": {},
   "outputs": [],
   "source": [
    "%run _common.ipynb\n",
    "\n",
    "import jax\n",
    "from jax import Array\n",
    "import jax.numpy as jnp\n",
    "import equinox as eqx\n",
    "import optax\n",
    "import numpy as np\n",
    "import matplotlib.pyplot as plt\n",
    "\n",
    "from neuralconstitutive.constitutive import FromLogDiscreteSpectrum\n",
    "from neuralconstitutive.relaxation_spectrum import HonerkampWeeseBimodal\n",
    "from neuralconstitutive.pyRespect import estimate_continous_spectrum\n",
    "from neuralconstitutive.jax.tipgeometry import Spherical, AbstractTipGeometry\n",
    "from neuralconstitutive.trajectory import Trajectory, make_triangular\n",
    "from neuralconstitutive.jax.ting import force_approach, force_retract\n",
    "from neuralconstitutive.nn import FullyConnectedNetwork\n",
    "from neuralconstitutive.models import BernsteinNN\n",
    "from neuralconstitutive.training import loss_total, train_model"
   ]
  },
  {
   "cell_type": "code",
   "execution_count": null,
   "metadata": {},
   "outputs": [],
   "source": [
    "bimodal = FromLogDiscreteSpectrum(HonerkampWeeseBimodal())\n",
    "\n",
    "fig, ax = plt.subplots(1, 1, figsize=(5, 3))\n",
    "ax.plot(*bimodal.discrete_spectrum, \".\")\n",
    "ax.set_xscale(\"log\", base=10)\n",
    "ax.set_xlabel(\"Relaxation Time τ[s]\")\n",
    "ax.set_ylabel(\"Relaxation Spectrum H(τ)[Pa]\")"
   ]
  },
  {
   "cell_type": "code",
   "execution_count": null,
   "metadata": {},
   "outputs": [],
   "source": [
    "t_data = np.linspace(0, 1e3, 100000)[1:]  # to avoid t=0\n",
    "g_data = bimodal.relaxation_function(t_data)\n",
    "\n",
    "fig, ax = plt.subplots(1, 1, figsize=(5, 3))\n",
    "ax.plot(t_data, g_data, \".\")\n",
    "ax.set_xscale(\"log\", base=10)\n",
    "ax.set_xlabel(\"Time[s]\")\n",
    "ax.set_ylabel(\"Relaxation Function[Pa]\")"
   ]
  },
  {
   "cell_type": "code",
   "execution_count": null,
   "metadata": {},
   "outputs": [],
   "source": [
    "fig, ax = plt.subplots(1, 1, figsize=(5, 3))\n",
    "ax.plot(\n",
    "    *bimodal.discrete_spectrum,\n",
    "    \".\",\n",
    "    color=\"black\",\n",
    "    markersize=2.0,\n",
    "    alpha=0.7,\n",
    "    label=\"Ground truth\",\n",
    ")\n",
    "for n_interp in (100, 200, 500):\n",
    "    t_estimated, h_estimated, _ = estimate_continous_spectrum(\n",
    "        t_data, g_data, n_interpolation=n_interp, n_spectrum_points=200\n",
    "    )\n",
    "    ax.plot(\n",
    "        t_estimated,\n",
    "        h_estimated,\n",
    "        \".\",\n",
    "        alpha=1.0,\n",
    "        label=f\"n_interp = {n_interp}\",\n",
    "    )\n",
    "ax.set_xscale(\"log\", base=10)\n",
    "ax.set_xlabel(\"Relaxation Time τ[s]\")\n",
    "ax.set_ylabel(\"Relaxation Spectrum H(τ)[Pa]\")\n",
    "ax.legend()"
   ]
  },
  {
   "cell_type": "code",
   "execution_count": null,
   "metadata": {},
   "outputs": [],
   "source": []
  }
 ],
 "metadata": {
  "language_info": {
   "name": "python"
  }
 },
 "nbformat": 4,
 "nbformat_minor": 2
}
