{
 "cells": [
  {
   "cell_type": "code",
   "execution_count": 21,
   "metadata": {},
   "outputs": [],
   "source": [
    "%run _common.ipynb\n",
    "%matplotlib inline\n",
    "\n",
    "import jax\n",
    "import jax.numpy as jnp\n",
    "import matplotlib.pyplot as plt\n",
    "\n",
    "from neuralconstitutive.constitutive import PowerLaw, StandardLinearSolid, ModifiedPowerLaw, KohlrauschWilliamsWatts, Hertzian\n",
    "from neuralconstitutive.tipgeometry import Spherical\n",
    "from neuralconstitutive.indentation import ConstantVelocityIndentation\n",
    "from neuralconstitutive.ting import (\n",
    "    force_approach,\n",
    "    t1_ting,\n",
    "    force_retract,\n",
    "    force_approach_analytic,\n",
    "    force_retract_analytic,\n",
    ")\n",
    "from neuralconstitutive.custom_types import FloatScalarLike"
   ]
  },
  {
   "cell_type": "code",
   "execution_count": 22,
   "metadata": {},
   "outputs": [
    {
     "data": {
      "text/plain": [
       "[<matplotlib.lines.Line2D at 0x7f70e3ae4b60>]"
      ]
     },
     "execution_count": 22,
     "metadata": {},
     "output_type": "execute_result"
    },
    {
     "data": {
      "image/png": "[encoded data removed]",
      "text/plain": [
       "<Figure size 500x250 with 1 Axes>"
      ]
     },
     "metadata": {},
     "output_type": "display_data"
    }
   ],
   "source": [
    "def simulate_data(constit, indent, tip, dt, noise_strength, seed=0):\n",
    "    t_m = indent.t_m\n",
    "    t_app = jnp.arange(0.0, t_m + dt, dt)\n",
    "    t_ret = jnp.arange(t_m, 2 * t_m + dt, dt)\n",
    "\n",
    "    f_app = force_approach_analytic(t_app, constit, indent, tip)\n",
    "    f_ret = force_retract_analytic(t_ret, constit, indent, tip)\n",
    "    f_max = f_ret[0]\n",
    "\n",
    "    rng_key = jax.random.PRNGKey(seed)\n",
    "    key_app, key_ret = jax.random.split(rng_key)\n",
    "    noise_app = jax.random.normal(key_app, f_app.shape) * f_max * noise_strength\n",
    "    noise_ret = jax.random.normal(key_ret, f_ret.shape) * f_max * noise_strength\n",
    "    return t_app, t_ret, f_app + noise_app, f_ret + noise_ret\n",
    "\n",
    "\n",
    "constit = PowerLaw(E0=1.0, alpha=0.2)\n",
    "indent = ConstantVelocityIndentation(v=1.0)\n",
    "tip = Spherical(R=1.0)\n",
    "\n",
    "t_app, t_ret, f_app, f_ret = simulate_data(\n",
    "    constit, indent, tip, dt=1e-3, noise_strength=0.01\n",
    ")\n",
    "\n",
    "fig, ax = plt.subplots(1, 1, figsize=(5, 2.5))\n",
    "ax.plot(t_app, f_app, \".\")\n",
    "ax.plot(t_ret, f_ret, \".\")"
   ]
  },
  {
   "cell_type": "code",
   "execution_count": 34,
   "metadata": {},
   "outputs": [],
   "source": [
    "import optimistix as optx\n",
    "import oryx\n",
    "import equinox as eqx\n",
    "\n",
    "\n",
    "def residual_app(constit, _):\n",
    "    return f_app - force_approach(t_app, constit, indent, tip)\n",
    "\n",
    "\n",
    "def residual_total(constit, _):\n",
    "    res_app = residual_app(constit)\n",
    "    res_ret = f_ret - force_retract(t_ret, constit, indent, tip)\n",
    "    return jnp.concatenate((res_app, res_ret), axis=0)\n",
    "\n",
    "\n",
    "@eqx.filter_jit\n",
    "def curve_fit(\n",
    "    objective_fn,\n",
    "    y0,\n",
    "    args,\n",
    "    transform_fn,\n",
    "    solver=optx.LevenbergMarquardt(rtol=1e-6, atol=1e-6),\n",
    "):\n",
    "    y0_unconstrained = oryx.core.inverse(transform_fn)(y0)\n",
    "\n",
    "    def _fn(y_unconstrained, _):\n",
    "        y_ = transform_fn(y_unconstrained)\n",
    "        return objective_fn(y_, args)\n",
    "\n",
    "    result = optx.least_squares(_fn, solver, y0_unconstrained)\n",
    "    return eqx.tree_at(lambda res: res.value, result, transform_fn(result.value))\n",
    "\n",
    "from scipy.stats import qmc\n",
    "import numpy as np\n",
    "\n",
    "def sample_latinhypercube(n_samples: int, *bounds: tuple[FloatScalarLike, FloatScalarLike], seed=0):\n",
    "    bounds = np.stack(bounds, axis = -1)\n",
    "    sampler = qmc.LatinHypercube(d=bounds.shape[-1], seed = seed)\n",
    "    samples = sampler.random(n_samples)\n",
    "    samples = qmc.scale(samples, bounds[0], bounds[1])\n",
    "    return jnp.asarray(samples)\n",
    "\n"
   ]
  },
  {
   "cell_type": "code",
   "execution_count": 35,
   "metadata": {},
   "outputs": [
    {
     "data": {
      "text/plain": [
       "StandardLinearSolid(E1=f64[100], E_inf=f64[100], tau=f64[100])"
      ]
     },
     "execution_count": 35,
     "metadata": {},
     "output_type": "execute_result"
    }
   ],
   "source": [
    "def transform_sls(sls: StandardLinearSolid):\n",
    "    return jax.tree.map(lambda x: 10**x, sls)\n",
    "\n",
    "def transform_pl(pl: PowerLaw):\n",
    "    return PowerLaw(E0=10**pl.E0, alpha = jax.nn.sigmoid(pl.alpha))\n",
    "\n",
    "def transform_mpl(mpl: ModifiedPowerLaw):\n",
    "    return ModifiedPowerLaw(E0=10**mpl.E0, alpha = jax.nn.sigmoid(mpl.alpha))\n",
    "\n",
    "def sample_sls(n_samples, seed = 10):\n",
    "    samples = sample_latinhypercube(n_samples, (-2, 2), (-2, 2), (-4, 1), seed = seed)\n",
    "    samples = 10**samples\n",
    "    return eqx.filter_vmap(StandardLinearSolid)(*samples.T)\n",
    "\n",
    "sls_initvals = sample_sls(100)\n",
    "sls_initvals\n",
    "\n",
    "## Might need to write a batched loop with tqdm support myself...\n"
   ]
  },
  {
   "cell_type": "code",
   "execution_count": 36,
   "metadata": {},
   "outputs": [],
   "source": [
    "res = eqx.filter_vmap(curve_fit, in_axes = (None, 0, None, None))(residual_app, sls_initvals, None, transform_sls)"
   ]
  },
  {
   "cell_type": "code",
   "execution_count": 37,
   "metadata": {},
   "outputs": [
    {
     "data": {
      "text/plain": [
       "Array([ 1.12687861,  1.12687896,  1.12687902,  1.12687852,  1.12687902,\n",
       "        1.12687898,  1.12682846,  1.12687899,  1.12687898,  1.12687852,\n",
       "        1.12687776, 48.47679153,  1.12687901,  1.12682951,  1.12687908,\n",
       "        1.12687784,  1.12687834,  1.12687896,  1.12687906,  1.1268285 ,\n",
       "        1.12687897,  1.12682929,  1.12687896, 82.67469963,  1.12687897,\n",
       "        1.12687859,  1.12682796,  1.12687908,  1.12687735,  1.12687847,\n",
       "        1.12682947,  1.12682747,  1.1268774 ,  1.12682901,  1.12687897,\n",
       "        1.12687896,  1.12687906,  1.12687904,  1.12687907,  1.12687899,\n",
       "        1.12687898,  1.12687767,  1.12687896,  1.12682982,  1.12687897,\n",
       "        1.12687861,  1.12687856,  1.12682961,  1.12687906,  1.12682923,\n",
       "        1.12687897,  1.1268275 ,  1.12687896,  1.12687847,  1.12687897,\n",
       "        1.12687855,  1.12682852,  1.12687773,  1.12687898,  1.12687903,\n",
       "        1.12687858,  1.12687902, 84.86044734,  1.12682971,  1.12682787,\n",
       "        1.12687896,  1.12687852,  1.12682843,  1.12687907,  1.12687851,\n",
       "        1.12687848,  1.12682913,  1.12682889,  1.12687899,  1.12682809,\n",
       "        1.12687901,  1.12687897,  1.12687897,  1.1268786 ,  1.12682918,\n",
       "        1.12687899,  1.12687851,  1.1268775 ,  1.12682959,  1.12687861,\n",
       "        1.126879  ,  1.12687899,  1.12687904,  1.126879  ,  1.12687898,\n",
       "        1.12687898,  1.1268786 , 78.46384798,  1.12687898, 81.2226001 ,\n",
       "        1.12682955,  1.12687902,  1.12682751, 84.86172553,  1.126879  ],      dtype=float64)"
      ]
     },
     "execution_count": 37,
     "metadata": {},
     "output_type": "execute_result"
    }
   ],
   "source": [
    "res.value.E1"
   ]
  },
  {
   "cell_type": "code",
   "execution_count": null,
   "metadata": {},
   "outputs": [],
   "source": []
  }
 ],
 "metadata": {
  "kernelspec": {
   "display_name": "blackjax",
   "language": "python",
   "name": "python3"
  },
  "language_info": {
   "codemirror_mode": {
    "name": "ipython",
    "version": 3
   },
   "file_extension": ".py",
   "mimetype": "text/x-python",
   "name": "python",
   "nbconvert_exporter": "python",
   "pygments_lexer": "ipython3",
   "version": "3.1.undefined"
  }
 },
 "nbformat": 4,
 "nbformat_minor": 2
}
