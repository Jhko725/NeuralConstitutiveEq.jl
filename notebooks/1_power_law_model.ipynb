{
 "cells": [
  {
   "cell_type": "code",
   "execution_count": 1,
   "metadata": {},
   "outputs": [],
   "source": [
    "%run _common.ipynb\n",
    "%matplotlib inline\n",
    "\n",
    "from jax.scipy.special import beta\n",
    "import equinox as eqx\n",
    "import matplotlib.pyplot as plt\n",
    "\n",
    "from neuralconstitutive.constitutive import PowerLaw\n",
    "from neuralconstitutive.ting import force_approach_scalar, force_retract_scalar\n"
   ]
  },
  {
   "cell_type": "code",
   "execution_count": null,
   "metadata": {},
   "outputs": [],
   "source": [
    "constit = PowerLaw(E0=1.0, alpha = 0.2)\n",
    "\n",
    "def force_approach_analytic(t, constit: PowerLaw, v, tip):\n",
    "    a, b = tip.a(), tip.b()\n",
    "    coeff = a*b*constit.E0*(v**b)*beta(1-constit.alpha, b)\n",
    "    return coeff*(t**(b-constit.alpha))"
   ]
  }
 ],
 "metadata": {
  "kernelspec": {
   "display_name": "blackjax",
   "language": "python",
   "name": "python3"
  },
  "language_info": {
   "codemirror_mode": {
    "name": "ipython",
    "version": 3
   },
   "file_extension": ".py",
   "mimetype": "text/x-python",
   "name": "python",
   "nbconvert_exporter": "python",
   "pygments_lexer": "ipython3",
   "version": "3.12.2"
  }
 },
 "nbformat": 4,
 "nbformat_minor": 2
}
