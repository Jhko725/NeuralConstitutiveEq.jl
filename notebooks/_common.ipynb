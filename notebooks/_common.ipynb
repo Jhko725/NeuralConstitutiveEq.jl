{
 "cells": [
  {
   "cell_type": "markdown",
   "metadata": {},
   "source": [
    "### Common scripts to be run at the start of each notebook\n",
    "Includes\n",
    "- Import path configuration\n",
    "- Matplotlib plot style configuration\n",
    "- Enabling jax float64 calculation default"
   ]
  },
  {
   "cell_type": "code",
   "execution_count": null,
   "metadata": {},
   "outputs": [],
   "source": [
    "import sys\n",
    "\n",
    "import matplotlib\n",
    "import jax\n",
    "\n",
    "# Enable import from parent folder\n",
    "sys.path.insert(0, \"..\")\n",
    "\n",
    "# Configure matplotlib\n",
    "matplotlib.rc(\"axes\", grid=True)\n",
    "matplotlib.rc(\"axes.spines\", right=False, top=False)\n",
    "matplotlib.rc(\"grid\", color=\"lightgray\", linestyle=\"--\")\n",
    "\n",
    "# # Set jax default to float64 calculations\n",
    "jax.config.update(\"jax_enable_x64\", True)"
   ]
  }
 ],
 "metadata": {
  "language_info": {
   "name": "python"
  }
 },
 "nbformat": 4,
 "nbformat_minor": 2
}
