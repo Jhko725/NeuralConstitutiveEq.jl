{
 "cells": [
  {
   "cell_type": "code",
   "execution_count": null,
   "metadata": {},
   "outputs": [],
   "source": []
  },
  {
   "cell_type": "code",
   "execution_count": null,
   "metadata": {},
   "outputs": [],
   "source": []
  },
  {
   "cell_type": "markdown",
   "metadata": {
    "isInteractiveWindowMessageCell": true
   },
   "source": [
    "qtc (Python 3.10.8)에 연결됨"
   ]
  },
  {
   "cell_type": "code",
   "execution_count": 1,
   "metadata": {},
   "outputs": [
    {
     "ename": "FileNotFoundError",
     "evalue": "[Errno 2] No such file or directory: 'data/20231110_onion/Image026676.nid'",
     "output_type": "error",
     "traceback": [
      "\u001b[0;31m---------------------------------------------------------------------------\u001b[0m",
      "\u001b[0;31mFileNotFoundError\u001b[0m                         Traceback (most recent call last)",
      "\u001b[1;32m/home/paul/Projects/NeuralConstitutiveEq.jl/preprocessing.py\u001b[0m in \u001b[0;36m<cell line: 16>\u001b[0;34m()\u001b[0m\n\u001b[1;32m     <a href='file:///home/paul/Projects/NeuralConstitutiveEq.jl/preprocessing.py?line=12'>13</a>\u001b[0m configure_matplotlib_defaults()\n\u001b[1;32m     <a href='file:///home/paul/Projects/NeuralConstitutiveEq.jl/preprocessing.py?line=14'>15</a>\u001b[0m filepath \u001b[39m=\u001b[39m \u001b[39m\"\u001b[39m\u001b[39mdata/20231110_onion/Image026676.nid\u001b[39m\u001b[39m\"\u001b[39m\n\u001b[0;32m---> <a href='file:///home/paul/Projects/NeuralConstitutiveEq.jl/preprocessing.py?line=15'>16</a>\u001b[0m config, data \u001b[39m=\u001b[39m nanosurf\u001b[39m.\u001b[39;49mread_nid(filepath)\n",
      "File \u001b[0;32m~/mambaforge/envs/qtc/lib/python3.10/site-packages/jhelabtoolkit/io/nanosurf/nanosurf.py:20\u001b[0m, in \u001b[0;36mread_nid\u001b[0;34m(filepath)\u001b[0m\n\u001b[1;32m     <a href='file:///home/paul/mambaforge/envs/qtc/lib/python3.10/site-packages/jhelabtoolkit/io/nanosurf/nanosurf.py?line=18'>19</a>\u001b[0m \u001b[39mdef\u001b[39;00m \u001b[39mread_nid\u001b[39m(filepath: \u001b[39mstr\u001b[39m \u001b[39m|\u001b[39m Path) \u001b[39m-\u001b[39m\u001b[39m>\u001b[39m \u001b[39mtuple\u001b[39m[ConfigParser, \u001b[39mdict\u001b[39m[\u001b[39mstr\u001b[39m, xr\u001b[39m.\u001b[39mDataset]]:\n\u001b[0;32m---> <a href='file:///home/paul/mambaforge/envs/qtc/lib/python3.10/site-packages/jhelabtoolkit/io/nanosurf/nanosurf.py?line=19'>20</a>\u001b[0m     \u001b[39mwith\u001b[39;00m \u001b[39mopen\u001b[39;49m(filepath, \u001b[39m\"\u001b[39;49m\u001b[39mrb\u001b[39;49m\u001b[39m\"\u001b[39;49m) \u001b[39mas\u001b[39;00m file:\n\u001b[1;32m     <a href='file:///home/paul/mambaforge/envs/qtc/lib/python3.10/site-packages/jhelabtoolkit/io/nanosurf/nanosurf.py?line=20'>21</a>\u001b[0m         \u001b[39mwith\u001b[39;00m mmap\u001b[39m.\u001b[39mmmap(file\u001b[39m.\u001b[39mfileno(), length\u001b[39m=\u001b[39m\u001b[39m0\u001b[39m, access\u001b[39m=\u001b[39mmmap\u001b[39m.\u001b[39mACCESS_READ) \u001b[39mas\u001b[39;00m memorymap:\n\u001b[1;32m     <a href='file:///home/paul/mambaforge/envs/qtc/lib/python3.10/site-packages/jhelabtoolkit/io/nanosurf/nanosurf.py?line=21'>22</a>\u001b[0m             config_binary, data_binary \u001b[39m=\u001b[39m split_config_and_data(memorymap)\n",
      "\u001b[0;31mFileNotFoundError\u001b[0m: [Errno 2] No such file or directory: 'data/20231110_onion/Image026676.nid'"
     ]
    }
   ],
   "source": [
    "from configparser import ConfigParser\n",
    "\n",
    "import numpy as np\n",
    "from numpy import ndarray\n",
    "import xarray as xr\n",
    "import kneed\n",
    "from numpy.polynomial.polynomial import Polynomial\n",
    "import matplotlib.pyplot as plt\n",
    "from jhelabtoolkit.io.nanosurf import nanosurf\n",
    "from jhelabtoolkit.utils.plotting import configure_matplotlib_defaults\n",
    "\n",
    "configure_matplotlib_defaults()\n",
    "\n",
    "filepath = \"data/20231110_onion/Image026676.nid\"\n",
    "config, data = nanosurf.read_nid(filepath)"
   ]
  },
  {
   "cell_type": "code",
   "execution_count": null,
   "metadata": {},
   "outputs": [
    {
     "ename": "",
     "evalue": "",
     "output_type": "error",
     "traceback": [
      "\u001b[1;31m이전 셀의 오류로 인해 셀이 취소되었습니다."
     ]
    }
   ],
   "source": [
    "def get_sampling_rate(nid_config: ConfigParser) -> float:\n",
    "    spec_config = dict(config[r\"DataSet\\DataSetInfos\\Spec\"])\n",
    "    num_points = int(spec_config[\"data points\"])\n",
    "    # May later use the pint library to parse unitful quantites\n",
    "    modulation_time = float(spec_config[\"modulation time\"].split(\" \")[0])\n",
    "    return num_points / modulation_time\n",
    "\n",
    "get_sampling_rate(config)"
   ]
  },
  {
   "cell_type": "code",
   "execution_count": null,
   "metadata": {},
   "outputs": [
    {
     "ename": "",
     "evalue": "",
     "output_type": "error",
     "traceback": [
      "\u001b[1;31m이전 셀의 오류로 인해 셀이 취소되었습니다."
     ]
    }
   ],
   "source": [
    "forward, backward = data[\"spec forward\"], data[\"spec backward\"]\n",
    "\n",
    "forward"
   ]
  },
  {
   "cell_type": "code",
   "execution_count": null,
   "metadata": {},
   "outputs": [
    {
     "ename": "",
     "evalue": "",
     "output_type": "error",
     "traceback": [
      "\u001b[1;31m이전 셀의 오류로 인해 셀이 취소되었습니다."
     ]
    }
   ],
   "source": [
    "def get_z_and_defl(spectroscopy_data: xr.DataArray) -> tuple[ndarray, ndarray]:\n",
    "    piezo_z = spectroscopy_data[\"z-axis sensor\"].to_numpy()\n",
    "    defl = spectroscopy_data[\"deflection\"].to_numpy()\n",
    "    return piezo_z.squeeze(), defl.squeeze()\n",
    "\n",
    "\n",
    "def calc_tip_distance(piezo_z_pos: ndarray, deflection: ndarray) -> ndarray:\n",
    "    return piezo_z_pos - deflection\n",
    "\n",
    "\n",
    "def find_contact_point(distance: ndarray, deflection: ndarray) -> float:\n",
    "    # Right now, only support 1D arrays of tip_distance and tip_deflection\n",
    "    locator = kneed.KneeLocator(\n",
    "        distance,\n",
    "        deflection,\n",
    "        S=10,\n",
    "        curve=\"convex\",\n",
    "        direction=\"increasing\",\n",
    "        interp_method=\"polynomial\",\n",
    "        polynomial_degree=7,\n",
    "    )\n",
    "    return locator.knee\n",
    "\n",
    "\n",
    "def find_contact_point1(deflection: ndarray, N: int) -> ndarray:\n",
    "    # Ratio of Variance\n",
    "    rov = np.array([])\n",
    "    length = np.arange(np.size(deflection))\n",
    "    rov = np.array(\n",
    "        [\n",
    "            np.append(\n",
    "                rov,\n",
    "                np.array(\n",
    "                    [\n",
    "                        np.var(deflection[i + 1 : i + N])\n",
    "                        / np.var(deflection[i - N : i - 1])\n",
    "                    ]\n",
    "                ),\n",
    "            )\n",
    "            for i in length\n",
    "        ]\n",
    "    ).flatten()\n",
    "    rov = rov[N : np.size(rov) - N]\n",
    "    idx = np.argmax(rov)\n",
    "    return rov, idx, rov[idx]\n",
    "\n",
    "\n",
    "def fit_baseline_polynomial(\n",
    "    distance: ndarray, deflection: ndarray, contact_point: float = 0.0, degree: int = 1\n",
    ") -> Polynomial:\n",
    "    pre_contact = distance < contact_point\n",
    "    domain = (np.amin(distance), np.amax(distance))\n",
    "    return Polynomial.fit(\n",
    "        distance[pre_contact], deflection[pre_contact], deg=degree, domain=domain\n",
    "    )"
   ]
  },
  {
   "cell_type": "code",
   "execution_count": null,
   "metadata": {},
   "outputs": [
    {
     "ename": "",
     "evalue": "",
     "output_type": "error",
     "traceback": [
      "\u001b[1;31m이전 셀의 오류로 인해 셀이 취소되었습니다."
     ]
    }
   ],
   "source": [
    "z_fwd, defl_fwd = get_z_and_defl(forward)\n",
    "z_bwd, defl_bwd = get_z_and_defl(backward)\n",
    "dist_fwd = calc_tip_distance(z_fwd, defl_fwd)\n",
    "dist_bwd = calc_tip_distance(z_bwd, defl_bwd)\n",
    "cp = find_contact_point(dist_fwd, defl_fwd)"
   ]
  },
  {
   "cell_type": "code",
   "execution_count": 2,
   "metadata": {},
   "outputs": [
    {
     "ename": "FileNotFoundError",
     "evalue": "[Errno 2] No such file or directory: 'data/20231110_onion/Image026676.nid'",
     "output_type": "error",
     "traceback": [
      "\u001b[0;31m---------------------------------------------------------------------------\u001b[0m",
      "\u001b[0;31mFileNotFoundError\u001b[0m                         Traceback (most recent call last)",
      "\u001b[1;32m/home/paul/Projects/NeuralConstitutiveEq.jl/preprocessing.py\u001b[0m in \u001b[0;36m<cell line: 16>\u001b[0;34m()\u001b[0m\n\u001b[1;32m     <a href='file:///home/paul/Projects/NeuralConstitutiveEq.jl/preprocessing.py?line=12'>13</a>\u001b[0m configure_matplotlib_defaults()\n\u001b[1;32m     <a href='file:///home/paul/Projects/NeuralConstitutiveEq.jl/preprocessing.py?line=14'>15</a>\u001b[0m filepath \u001b[39m=\u001b[39m \u001b[39m\"\u001b[39m\u001b[39mdata/20231110_onion/Image026676.nid\u001b[39m\u001b[39m\"\u001b[39m\n\u001b[0;32m---> <a href='file:///home/paul/Projects/NeuralConstitutiveEq.jl/preprocessing.py?line=15'>16</a>\u001b[0m config, data \u001b[39m=\u001b[39m nanosurf\u001b[39m.\u001b[39;49mread_nid(filepath)\n",
      "File \u001b[0;32m~/mambaforge/envs/qtc/lib/python3.10/site-packages/jhelabtoolkit/io/nanosurf/nanosurf.py:20\u001b[0m, in \u001b[0;36mread_nid\u001b[0;34m(filepath)\u001b[0m\n\u001b[1;32m     <a href='file:///home/paul/mambaforge/envs/qtc/lib/python3.10/site-packages/jhelabtoolkit/io/nanosurf/nanosurf.py?line=18'>19</a>\u001b[0m \u001b[39mdef\u001b[39;00m \u001b[39mread_nid\u001b[39m(filepath: \u001b[39mstr\u001b[39m \u001b[39m|\u001b[39m Path) \u001b[39m-\u001b[39m\u001b[39m>\u001b[39m \u001b[39mtuple\u001b[39m[ConfigParser, \u001b[39mdict\u001b[39m[\u001b[39mstr\u001b[39m, xr\u001b[39m.\u001b[39mDataset]]:\n\u001b[0;32m---> <a href='file:///home/paul/mambaforge/envs/qtc/lib/python3.10/site-packages/jhelabtoolkit/io/nanosurf/nanosurf.py?line=19'>20</a>\u001b[0m     \u001b[39mwith\u001b[39;00m \u001b[39mopen\u001b[39;49m(filepath, \u001b[39m\"\u001b[39;49m\u001b[39mrb\u001b[39;49m\u001b[39m\"\u001b[39;49m) \u001b[39mas\u001b[39;00m file:\n\u001b[1;32m     <a href='file:///home/paul/mambaforge/envs/qtc/lib/python3.10/site-packages/jhelabtoolkit/io/nanosurf/nanosurf.py?line=20'>21</a>\u001b[0m         \u001b[39mwith\u001b[39;00m mmap\u001b[39m.\u001b[39mmmap(file\u001b[39m.\u001b[39mfileno(), length\u001b[39m=\u001b[39m\u001b[39m0\u001b[39m, access\u001b[39m=\u001b[39mmmap\u001b[39m.\u001b[39mACCESS_READ) \u001b[39mas\u001b[39;00m memorymap:\n\u001b[1;32m     <a href='file:///home/paul/mambaforge/envs/qtc/lib/python3.10/site-packages/jhelabtoolkit/io/nanosurf/nanosurf.py?line=21'>22</a>\u001b[0m             config_binary, data_binary \u001b[39m=\u001b[39m split_config_and_data(memorymap)\n",
      "\u001b[0;31mFileNotFoundError\u001b[0m: [Errno 2] No such file or directory: 'data/20231110_onion/Image026676.nid'"
     ]
    }
   ],
   "source": [
    "from configparser import ConfigParser\n",
    "\n",
    "import numpy as np\n",
    "from numpy import ndarray\n",
    "import xarray as xr\n",
    "import kneed\n",
    "from numpy.polynomial.polynomial import Polynomial\n",
    "import matplotlib.pyplot as plt\n",
    "from jhelabtoolkit.io.nanosurf import nanosurf\n",
    "from jhelabtoolkit.utils.plotting import configure_matplotlib_defaults\n",
    "\n",
    "configure_matplotlib_defaults()\n",
    "\n",
    "filepath = \"data/20231110_onion/Image026676.nid\"\n",
    "config, data = nanosurf.read_nid(filepath)"
   ]
  },
  {
   "cell_type": "code",
   "execution_count": 3,
   "metadata": {},
   "outputs": [
    {
     "ename": "NameError",
     "evalue": "name 'config' is not defined",
     "output_type": "error",
     "traceback": [
      "\u001b[0;31m---------------------------------------------------------------------------\u001b[0m",
      "\u001b[0;31mNameError\u001b[0m                                 Traceback (most recent call last)",
      "\u001b[1;32m/home/paul/Projects/NeuralConstitutiveEq.jl/preprocessing.py\u001b[0m in \u001b[0;36m<cell line: 9>\u001b[0;34m()\u001b[0m\n\u001b[1;32m      <a href='file:///home/paul/Projects/NeuralConstitutiveEq.jl/preprocessing.py?line=21'>22</a>\u001b[0m     modulation_time \u001b[39m=\u001b[39m \u001b[39mfloat\u001b[39m(spec_config[\u001b[39m\"\u001b[39m\u001b[39mmodulation time\u001b[39m\u001b[39m\"\u001b[39m]\u001b[39m.\u001b[39msplit(\u001b[39m\"\u001b[39m\u001b[39m \u001b[39m\u001b[39m\"\u001b[39m)[\u001b[39m0\u001b[39m])\n\u001b[1;32m      <a href='file:///home/paul/Projects/NeuralConstitutiveEq.jl/preprocessing.py?line=22'>23</a>\u001b[0m     \u001b[39mreturn\u001b[39;00m num_points \u001b[39m/\u001b[39m modulation_time\n\u001b[0;32m----> <a href='file:///home/paul/Projects/NeuralConstitutiveEq.jl/preprocessing.py?line=24'>25</a>\u001b[0m get_sampling_rate(config)\n",
      "\u001b[0;31mNameError\u001b[0m: name 'config' is not defined"
     ]
    }
   ],
   "source": [
    "def get_sampling_rate(nid_config: ConfigParser) -> float:\n",
    "    spec_config = dict(config[r\"DataSet\\DataSetInfos\\Spec\"])\n",
    "    num_points = int(spec_config[\"data points\"])\n",
    "    # May later use the pint library to parse unitful quantites\n",
    "    modulation_time = float(spec_config[\"modulation time\"].split(\" \")[0])\n",
    "    return num_points / modulation_time\n",
    "\n",
    "get_sampling_rate(config)"
   ]
  },
  {
   "cell_type": "code",
   "execution_count": 4,
   "metadata": {},
   "outputs": [
    {
     "ename": "NameError",
     "evalue": "name 'data' is not defined",
     "output_type": "error",
     "traceback": [
      "\u001b[0;31m---------------------------------------------------------------------------\u001b[0m",
      "\u001b[0;31mNameError\u001b[0m                                 Traceback (most recent call last)",
      "\u001b[1;32m/home/paul/Projects/NeuralConstitutiveEq.jl/preprocessing.py\u001b[0m in \u001b[0;36m<cell line: 2>\u001b[0;34m()\u001b[0m\n\u001b[1;32m      <a href='file:///home/paul/Projects/NeuralConstitutiveEq.jl/preprocessing.py?line=25'>26</a>\u001b[0m \u001b[39m# %%\u001b[39;00m\n\u001b[0;32m----> <a href='file:///home/paul/Projects/NeuralConstitutiveEq.jl/preprocessing.py?line=26'>27</a>\u001b[0m forward, backward \u001b[39m=\u001b[39m data[\u001b[39m\"\u001b[39m\u001b[39mspec forward\u001b[39m\u001b[39m\"\u001b[39m], data[\u001b[39m\"\u001b[39m\u001b[39mspec backward\u001b[39m\u001b[39m\"\u001b[39m]\n\u001b[1;32m      <a href='file:///home/paul/Projects/NeuralConstitutiveEq.jl/preprocessing.py?line=28'>29</a>\u001b[0m forward\n",
      "\u001b[0;31mNameError\u001b[0m: name 'data' is not defined"
     ]
    }
   ],
   "source": [
    "forward, backward = data[\"spec forward\"], data[\"spec backward\"]\n",
    "\n",
    "forward"
   ]
  },
  {
   "cell_type": "code",
   "execution_count": 5,
   "metadata": {},
   "outputs": [],
   "source": [
    "from configparser import ConfigParser\n",
    "\n",
    "import numpy as np\n",
    "from numpy import ndarray\n",
    "import xarray as xr\n",
    "import kneed\n",
    "from numpy.polynomial.polynomial import Polynomial\n",
    "import matplotlib.pyplot as plt\n",
    "from jhelabtoolkit.io.nanosurf import nanosurf\n",
    "from jhelabtoolkit.utils.plotting import configure_matplotlib_defaults\n",
    "\n",
    "configure_matplotlib_defaults()\n",
    "\n",
    "filepath = \"data/20231110_onion/Image02676.nid\"\n",
    "config, data = nanosurf.read_nid(filepath)"
   ]
  },
  {
   "cell_type": "code",
   "execution_count": 6,
   "metadata": {},
   "outputs": [
    {
     "data": {
      "text/plain": [
       "65536.0"
      ]
     },
     "execution_count": 6,
     "metadata": {},
     "output_type": "execute_result"
    }
   ],
   "source": [
    "def get_sampling_rate(nid_config: ConfigParser) -> float:\n",
    "    spec_config = dict(config[r\"DataSet\\DataSetInfos\\Spec\"])\n",
    "    num_points = int(spec_config[\"data points\"])\n",
    "    # May later use the pint library to parse unitful quantites\n",
    "    modulation_time = float(spec_config[\"modulation time\"].split(\" \")[0])\n",
    "    return num_points / modulation_time\n",
    "\n",
    "get_sampling_rate(config)"
   ]
  },
  {
   "cell_type": "code",
   "execution_count": 7,
   "metadata": {},
   "outputs": [
    {
     "data": {
      "text/html": [
       "<div><svg style=\"position: absolute; width: 0; height: 0; overflow: hidden\">\n",
       "<defs>\n",
       "<symbol id=\"icon-database\" viewBox=\"0 0 32 32\">\n",
       "<path d=\"M16 0c-8.837 0-16 2.239-16 5v4c0 2.761 7.163 5 16 5s16-2.239 16-5v-4c0-2.761-7.163-5-16-5z\"></path>\n",
       "<path d=\"M16 17c-8.837 0-16-2.239-16-5v6c0 2.761 7.163 5 16 5s16-2.239 16-5v-6c0 2.761-7.163 5-16 5z\"></path>\n",
       "<path d=\"M16 26c-8.837 0-16-2.239-16-5v6c0 2.761 7.163 5 16 5s16-2.239 16-5v-6c0 2.761-7.163 5-16 5z\"></path>\n",
       "</symbol>\n",
       "<symbol id=\"icon-file-text2\" viewBox=\"0 0 32 32\">\n",
       "<path d=\"M28.681 7.159c-0.694-0.947-1.662-2.053-2.724-3.116s-2.169-2.030-3.116-2.724c-1.612-1.182-2.393-1.319-2.841-1.319h-15.5c-1.378 0-2.5 1.121-2.5 2.5v27c0 1.378 1.122 2.5 2.5 2.5h23c1.378 0 2.5-1.122 2.5-2.5v-19.5c0-0.448-0.137-1.23-1.319-2.841zM24.543 5.457c0.959 0.959 1.712 1.825 2.268 2.543h-4.811v-4.811c0.718 0.556 1.584 1.309 2.543 2.268zM28 29.5c0 0.271-0.229 0.5-0.5 0.5h-23c-0.271 0-0.5-0.229-0.5-0.5v-27c0-0.271 0.229-0.5 0.5-0.5 0 0 15.499-0 15.5 0v7c0 0.552 0.448 1 1 1h7v19.5z\"></path>\n",
       "<path d=\"M23 26h-14c-0.552 0-1-0.448-1-1s0.448-1 1-1h14c0.552 0 1 0.448 1 1s-0.448 1-1 1z\"></path>\n",
       "<path d=\"M23 22h-14c-0.552 0-1-0.448-1-1s0.448-1 1-1h14c0.552 0 1 0.448 1 1s-0.448 1-1 1z\"></path>\n",
       "<path d=\"M23 18h-14c-0.552 0-1-0.448-1-1s0.448-1 1-1h14c0.552 0 1 0.448 1 1s-0.448 1-1 1z\"></path>\n",
       "</symbol>\n",
       "</defs>\n",
       "</svg>\n",
       "<style>/* CSS stylesheet for displaying xarray objects in jupyterlab.\n",
       " *\n",
       " */\n",
       "\n",
       ":root {\n",
       "  --xr-font-color0: var(--jp-content-font-color0, rgba(0, 0, 0, 1));\n",
       "  --xr-font-color2: var(--jp-content-font-color2, rgba(0, 0, 0, 0.54));\n",
       "  --xr-font-color3: var(--jp-content-font-color3, rgba(0, 0, 0, 0.38));\n",
       "  --xr-border-color: var(--jp-border-color2, #e0e0e0);\n",
       "  --xr-disabled-color: var(--jp-layout-color3, #bdbdbd);\n",
       "  --xr-background-color: var(--jp-layout-color0, white);\n",
       "  --xr-background-color-row-even: var(--jp-layout-color1, white);\n",
       "  --xr-background-color-row-odd: var(--jp-layout-color2, #eeeeee);\n",
       "}\n",
       "\n",
       "html[theme=dark],\n",
       "body[data-theme=dark],\n",
       "body.vscode-dark {\n",
       "  --xr-font-color0: rgba(255, 255, 255, 1);\n",
       "  --xr-font-color2: rgba(255, 255, 255, 0.54);\n",
       "  --xr-font-color3: rgba(255, 255, 255, 0.38);\n",
       "  --xr-border-color: #1F1F1F;\n",
       "  --xr-disabled-color: #515151;\n",
       "  --xr-background-color: #111111;\n",
       "  --xr-background-color-row-even: #111111;\n",
       "  --xr-background-color-row-odd: #313131;\n",
       "}\n",
       "\n",
       ".xr-wrap {\n",
       "  display: block !important;\n",
       "  min-width: 300px;\n",
       "  max-width: 700px;\n",
       "}\n",
       "\n",
       ".xr-text-repr-fallback {\n",
       "  /* fallback to plain text repr when CSS is not injected (untrusted notebook) */\n",
       "  display: none;\n",
       "}\n",
       "\n",
       ".xr-header {\n",
       "  padding-top: 6px;\n",
       "  padding-bottom: 6px;\n",
       "  margin-bottom: 4px;\n",
       "  border-bottom: solid 1px var(--xr-border-color);\n",
       "}\n",
       "\n",
       ".xr-header > div,\n",
       ".xr-header > ul {\n",
       "  display: inline;\n",
       "  margin-top: 0;\n",
       "  margin-bottom: 0;\n",
       "}\n",
       "\n",
       ".xr-obj-type,\n",
       ".xr-array-name {\n",
       "  margin-left: 2px;\n",
       "  margin-right: 10px;\n",
       "}\n",
       "\n",
       ".xr-obj-type {\n",
       "  color: var(--xr-font-color2);\n",
       "}\n",
       "\n",
       ".xr-sections {\n",
       "  padding-left: 0 !important;\n",
       "  display: grid;\n",
       "  grid-template-columns: 150px auto auto 1fr 20px 20px;\n",
       "}\n",
       "\n",
       ".xr-section-item {\n",
       "  display: contents;\n",
       "}\n",
       "\n",
       ".xr-section-item input {\n",
       "  display: none;\n",
       "}\n",
       "\n",
       ".xr-section-item input + label {\n",
       "  color: var(--xr-disabled-color);\n",
       "}\n",
       "\n",
       ".xr-section-item input:enabled + label {\n",
       "  cursor: pointer;\n",
       "  color: var(--xr-font-color2);\n",
       "}\n",
       "\n",
       ".xr-section-item input:enabled + label:hover {\n",
       "  color: var(--xr-font-color0);\n",
       "}\n",
       "\n",
       ".xr-section-summary {\n",
       "  grid-column: 1;\n",
       "  color: var(--xr-font-color2);\n",
       "  font-weight: 500;\n",
       "}\n",
       "\n",
       ".xr-section-summary > span {\n",
       "  display: inline-block;\n",
       "  padding-left: 0.5em;\n",
       "}\n",
       "\n",
       ".xr-section-summary-in:disabled + label {\n",
       "  color: var(--xr-font-color2);\n",
       "}\n",
       "\n",
       ".xr-section-summary-in + label:before {\n",
       "  display: inline-block;\n",
       "  content: '►';\n",
       "  font-size: 11px;\n",
       "  width: 15px;\n",
       "  text-align: center;\n",
       "}\n",
       "\n",
       ".xr-section-summary-in:disabled + label:before {\n",
       "  color: var(--xr-disabled-color);\n",
       "}\n",
       "\n",
       ".xr-section-summary-in:checked + label:before {\n",
       "  content: '▼';\n",
       "}\n",
       "\n",
       ".xr-section-summary-in:checked + label > span {\n",
       "  display: none;\n",
       "}\n",
       "\n",
       ".xr-section-summary,\n",
       ".xr-section-inline-details {\n",
       "  padding-top: 4px;\n",
       "  padding-bottom: 4px;\n",
       "}\n",
       "\n",
       ".xr-section-inline-details {\n",
       "  grid-column: 2 / -1;\n",
       "}\n",
       "\n",
       ".xr-section-details {\n",
       "  display: none;\n",
       "  grid-column: 1 / -1;\n",
       "  margin-bottom: 5px;\n",
       "}\n",
       "\n",
       ".xr-section-summary-in:checked ~ .xr-section-details {\n",
       "  display: contents;\n",
       "}\n",
       "\n",
       ".xr-array-wrap {\n",
       "  grid-column: 1 / -1;\n",
       "  display: grid;\n",
       "  grid-template-columns: 20px auto;\n",
       "}\n",
       "\n",
       ".xr-array-wrap > label {\n",
       "  grid-column: 1;\n",
       "  vertical-align: top;\n",
       "}\n",
       "\n",
       ".xr-preview {\n",
       "  color: var(--xr-font-color3);\n",
       "}\n",
       "\n",
       ".xr-array-preview,\n",
       ".xr-array-data {\n",
       "  padding: 0 5px !important;\n",
       "  grid-column: 2;\n",
       "}\n",
       "\n",
       ".xr-array-data,\n",
       ".xr-array-in:checked ~ .xr-array-preview {\n",
       "  display: none;\n",
       "}\n",
       "\n",
       ".xr-array-in:checked ~ .xr-array-data,\n",
       ".xr-array-preview {\n",
       "  display: inline-block;\n",
       "}\n",
       "\n",
       ".xr-dim-list {\n",
       "  display: inline-block !important;\n",
       "  list-style: none;\n",
       "  padding: 0 !important;\n",
       "  margin: 0;\n",
       "}\n",
       "\n",
       ".xr-dim-list li {\n",
       "  display: inline-block;\n",
       "  padding: 0;\n",
       "  margin: 0;\n",
       "}\n",
       "\n",
       ".xr-dim-list:before {\n",
       "  content: '(';\n",
       "}\n",
       "\n",
       ".xr-dim-list:after {\n",
       "  content: ')';\n",
       "}\n",
       "\n",
       ".xr-dim-list li:not(:last-child):after {\n",
       "  content: ',';\n",
       "  padding-right: 5px;\n",
       "}\n",
       "\n",
       ".xr-has-index {\n",
       "  font-weight: bold;\n",
       "}\n",
       "\n",
       ".xr-var-list,\n",
       ".xr-var-item {\n",
       "  display: contents;\n",
       "}\n",
       "\n",
       ".xr-var-item > div,\n",
       ".xr-var-item label,\n",
       ".xr-var-item > .xr-var-name span {\n",
       "  background-color: var(--xr-background-color-row-even);\n",
       "  margin-bottom: 0;\n",
       "}\n",
       "\n",
       ".xr-var-item > .xr-var-name:hover span {\n",
       "  padding-right: 5px;\n",
       "}\n",
       "\n",
       ".xr-var-list > li:nth-child(odd) > div,\n",
       ".xr-var-list > li:nth-child(odd) > label,\n",
       ".xr-var-list > li:nth-child(odd) > .xr-var-name span {\n",
       "  background-color: var(--xr-background-color-row-odd);\n",
       "}\n",
       "\n",
       ".xr-var-name {\n",
       "  grid-column: 1;\n",
       "}\n",
       "\n",
       ".xr-var-dims {\n",
       "  grid-column: 2;\n",
       "}\n",
       "\n",
       ".xr-var-dtype {\n",
       "  grid-column: 3;\n",
       "  text-align: right;\n",
       "  color: var(--xr-font-color2);\n",
       "}\n",
       "\n",
       ".xr-var-preview {\n",
       "  grid-column: 4;\n",
       "}\n",
       "\n",
       ".xr-index-preview {\n",
       "  grid-column: 2 / 5;\n",
       "  color: var(--xr-font-color2);\n",
       "}\n",
       "\n",
       ".xr-var-name,\n",
       ".xr-var-dims,\n",
       ".xr-var-dtype,\n",
       ".xr-preview,\n",
       ".xr-attrs dt {\n",
       "  white-space: nowrap;\n",
       "  overflow: hidden;\n",
       "  text-overflow: ellipsis;\n",
       "  padding-right: 10px;\n",
       "}\n",
       "\n",
       ".xr-var-name:hover,\n",
       ".xr-var-dims:hover,\n",
       ".xr-var-dtype:hover,\n",
       ".xr-attrs dt:hover {\n",
       "  overflow: visible;\n",
       "  width: auto;\n",
       "  z-index: 1;\n",
       "}\n",
       "\n",
       ".xr-var-attrs,\n",
       ".xr-var-data,\n",
       ".xr-index-data {\n",
       "  display: none;\n",
       "  background-color: var(--xr-background-color) !important;\n",
       "  padding-bottom: 5px !important;\n",
       "}\n",
       "\n",
       ".xr-var-attrs-in:checked ~ .xr-var-attrs,\n",
       ".xr-var-data-in:checked ~ .xr-var-data,\n",
       ".xr-index-data-in:checked ~ .xr-index-data {\n",
       "  display: block;\n",
       "}\n",
       "\n",
       ".xr-var-data > table {\n",
       "  float: right;\n",
       "}\n",
       "\n",
       ".xr-var-name span,\n",
       ".xr-var-data,\n",
       ".xr-index-name div,\n",
       ".xr-index-data,\n",
       ".xr-attrs {\n",
       "  padding-left: 25px !important;\n",
       "}\n",
       "\n",
       ".xr-attrs,\n",
       ".xr-var-attrs,\n",
       ".xr-var-data,\n",
       ".xr-index-data {\n",
       "  grid-column: 1 / -1;\n",
       "}\n",
       "\n",
       "dl.xr-attrs {\n",
       "  padding: 0;\n",
       "  margin: 0;\n",
       "  display: grid;\n",
       "  grid-template-columns: 125px auto;\n",
       "}\n",
       "\n",
       ".xr-attrs dt,\n",
       ".xr-attrs dd {\n",
       "  padding: 0;\n",
       "  margin: 0;\n",
       "  float: left;\n",
       "  padding-right: 10px;\n",
       "  width: auto;\n",
       "}\n",
       "\n",
       ".xr-attrs dt {\n",
       "  font-weight: normal;\n",
       "  grid-column: 1;\n",
       "}\n",
       "\n",
       ".xr-attrs dt:hover span {\n",
       "  display: inline-block;\n",
       "  background: var(--xr-background-color);\n",
       "  padding-right: 10px;\n",
       "}\n",
       "\n",
       ".xr-attrs dd {\n",
       "  grid-column: 2;\n",
       "  white-space: pre-wrap;\n",
       "  word-break: break-all;\n",
       "}\n",
       "\n",
       ".xr-icon-database,\n",
       ".xr-icon-file-text2,\n",
       ".xr-no-icon {\n",
       "  display: inline-block;\n",
       "  vertical-align: middle;\n",
       "  width: 1em;\n",
       "  height: 1.5em !important;\n",
       "  stroke-width: 0;\n",
       "  stroke: currentColor;\n",
       "  fill: currentColor;\n",
       "}\n",
       "</style><pre class='xr-text-repr-fallback'>&lt;xarray.Dataset&gt;\n",
       "Dimensions:        (z-axis: 319, specpoint: 1)\n",
       "Coordinates:\n",
       "  * z-axis         (z-axis) float64 -5.5e-06 -5.489e-06 ... -2.077e-06\n",
       "  * specpoint      (specpoint) float64 1.0\n",
       "Data variables:\n",
       "    deflection     (z-axis, specpoint) float64 4.951e-11 1.381e-10 ... 1.505e-08\n",
       "    z-axis sensor  (z-axis, specpoint) float64 -2.844e-06 ... 1.026e-06\n",
       "Attributes:\n",
       "    name:     None</pre><div class='xr-wrap' style='display:none'><div class='xr-header'><div class='xr-obj-type'>xarray.Dataset</div></div><ul class='xr-sections'><li class='xr-section-item'><input id='section-e4095f5e-6973-45ba-9dbe-5c39b3a351a7' class='xr-section-summary-in' type='checkbox' disabled ><label for='section-e4095f5e-6973-45ba-9dbe-5c39b3a351a7' class='xr-section-summary'  title='Expand/collapse section'>Dimensions:</label><div class='xr-section-inline-details'><ul class='xr-dim-list'><li><span class='xr-has-index'>z-axis</span>: 319</li><li><span class='xr-has-index'>specpoint</span>: 1</li></ul></div><div class='xr-section-details'></div></li><li class='xr-section-item'><input id='section-684e7ade-551b-4096-837c-e0096421bfef' class='xr-section-summary-in' type='checkbox'  checked><label for='section-684e7ade-551b-4096-837c-e0096421bfef' class='xr-section-summary' >Coordinates: <span>(2)</span></label><div class='xr-section-inline-details'></div><div class='xr-section-details'><ul class='xr-var-list'><li class='xr-var-item'><div class='xr-var-name'><span class='xr-has-index'>z-axis</span></div><div class='xr-var-dims'>(z-axis)</div><div class='xr-var-dtype'>float64</div><div class='xr-var-preview xr-preview'>-5.5e-06 -5.489e-06 ... -2.077e-06</div><input id='attrs-e93df3d2-5982-4aad-bf97-4c0f7e9fe413' class='xr-var-attrs-in' type='checkbox' ><label for='attrs-e93df3d2-5982-4aad-bf97-4c0f7e9fe413' title='Show/Hide attributes'><svg class='icon xr-icon-file-text2'><use xlink:href='#icon-file-text2'></use></svg></label><input id='data-7d449b76-d8e0-4856-a825-9d956838780b' class='xr-var-data-in' type='checkbox'><label for='data-7d449b76-d8e0-4856-a825-9d956838780b' title='Show/Hide data repr'><svg class='icon xr-icon-database'><use xlink:href='#icon-database'></use></svg></label><div class='xr-var-attrs'><dl class='xr-attrs'><dt><span>unit :</span></dt><dd>m</dd></dl></div><div class='xr-var-data'><pre>array([-5.500000e-06, -5.489236e-06, -5.478472e-06, ..., -2.098628e-06,\n",
       "       -2.087864e-06, -2.077100e-06])</pre></div></li><li class='xr-var-item'><div class='xr-var-name'><span class='xr-has-index'>specpoint</span></div><div class='xr-var-dims'>(specpoint)</div><div class='xr-var-dtype'>float64</div><div class='xr-var-preview xr-preview'>1.0</div><input id='attrs-75a076d3-ad62-4413-90fc-b194ce6027d3' class='xr-var-attrs-in' type='checkbox' ><label for='attrs-75a076d3-ad62-4413-90fc-b194ce6027d3' title='Show/Hide attributes'><svg class='icon xr-icon-file-text2'><use xlink:href='#icon-file-text2'></use></svg></label><input id='data-9cc9e1d7-f7a3-43d4-8664-45f66d02035a' class='xr-var-data-in' type='checkbox'><label for='data-9cc9e1d7-f7a3-43d4-8664-45f66d02035a' title='Show/Hide data repr'><svg class='icon xr-icon-database'><use xlink:href='#icon-database'></use></svg></label><div class='xr-var-attrs'><dl class='xr-attrs'><dt><span>unit :</span></dt><dd>None</dd></dl></div><div class='xr-var-data'><pre>array([1.])</pre></div></li></ul></div></li><li class='xr-section-item'><input id='section-1ad27b18-d545-476e-8bf8-ac75dbf755c1' class='xr-section-summary-in' type='checkbox'  checked><label for='section-1ad27b18-d545-476e-8bf8-ac75dbf755c1' class='xr-section-summary' >Data variables: <span>(2)</span></label><div class='xr-section-inline-details'></div><div class='xr-section-details'><ul class='xr-var-list'><li class='xr-var-item'><div class='xr-var-name'><span>deflection</span></div><div class='xr-var-dims'>(z-axis, specpoint)</div><div class='xr-var-dtype'>float64</div><div class='xr-var-preview xr-preview'>4.951e-11 1.381e-10 ... 1.505e-08</div><input id='attrs-2660adfc-390f-475e-ab67-514f7ff72ad5' class='xr-var-attrs-in' type='checkbox' ><label for='attrs-2660adfc-390f-475e-ab67-514f7ff72ad5' title='Show/Hide attributes'><svg class='icon xr-icon-file-text2'><use xlink:href='#icon-file-text2'></use></svg></label><input id='data-500a1e1f-1f14-401e-a29a-7ca40aca90c9' class='xr-var-data-in' type='checkbox'><label for='data-500a1e1f-1f14-401e-a29a-7ca40aca90c9' title='Show/Hide data repr'><svg class='icon xr-icon-database'><use xlink:href='#icon-database'></use></svg></label><div class='xr-var-attrs'><dl class='xr-attrs'><dt><span>unit :</span></dt><dd>N</dd></dl></div><div class='xr-var-data'><pre>array([[4.95126355e-11],\n",
       "       [1.38095736e-10],\n",
       "       [2.08095476e-10],\n",
       "       [2.36231912e-10],\n",
       "       [2.56048202e-10],\n",
       "       [2.78895720e-10],\n",
       "       [3.02999351e-10],\n",
       "       [3.13343942e-10],\n",
       "       [3.27894970e-10],\n",
       "       [3.43780648e-10],\n",
       "       [3.52802891e-10],\n",
       "       [3.67263555e-10],\n",
       "       [3.77314817e-10],\n",
       "       [3.83964877e-10],\n",
       "       [4.01927042e-10],\n",
       "       [4.04658790e-10],\n",
       "       [4.10924684e-10],\n",
       "       [4.12717778e-10],\n",
       "       [4.26439914e-10],\n",
       "       [4.32888902e-10],\n",
       "...\n",
       "       [8.25948486e-09],\n",
       "       [8.60128264e-09],\n",
       "       [8.96454834e-09],\n",
       "       [9.32313875e-09],\n",
       "       [9.66956450e-09],\n",
       "       [1.00360284e-08],\n",
       "       [1.03890721e-08],\n",
       "       [1.07363352e-08],\n",
       "       [1.10886749e-08],\n",
       "       [1.14274523e-08],\n",
       "       [1.17619680e-08],\n",
       "       [1.21298352e-08],\n",
       "       [1.24994302e-08],\n",
       "       [1.28546066e-08],\n",
       "       [1.32157915e-08],\n",
       "       [1.35699385e-08],\n",
       "       [1.39104068e-08],\n",
       "       [1.42732685e-08],\n",
       "       [1.46746916e-08],\n",
       "       [1.50549458e-08]])</pre></div></li><li class='xr-var-item'><div class='xr-var-name'><span>z-axis sensor</span></div><div class='xr-var-dims'>(z-axis, specpoint)</div><div class='xr-var-dtype'>float64</div><div class='xr-var-preview xr-preview'>-2.844e-06 -2.839e-06 ... 1.026e-06</div><input id='attrs-e7e6d148-de1a-493c-9abc-bc79f0d0bf6e' class='xr-var-attrs-in' type='checkbox' ><label for='attrs-e7e6d148-de1a-493c-9abc-bc79f0d0bf6e' title='Show/Hide attributes'><svg class='icon xr-icon-file-text2'><use xlink:href='#icon-file-text2'></use></svg></label><input id='data-e2a53535-b043-4450-9e46-ae4b31f3a13e' class='xr-var-data-in' type='checkbox'><label for='data-e2a53535-b043-4450-9e46-ae4b31f3a13e' title='Show/Hide data repr'><svg class='icon xr-icon-database'><use xlink:href='#icon-database'></use></svg></label><div class='xr-var-attrs'><dl class='xr-attrs'><dt><span>unit :</span></dt><dd>m</dd></dl></div><div class='xr-var-data'><pre>array([[-2.84369994e-06],\n",
       "       [-2.83880105e-06],\n",
       "       [-2.82870575e-06],\n",
       "       [-2.81818829e-06],\n",
       "       [-2.80745119e-06],\n",
       "       [-2.79663803e-06],\n",
       "       [-2.78595439e-06],\n",
       "       [-2.77519194e-06],\n",
       "       [-2.76436258e-06],\n",
       "       [-2.75374004e-06],\n",
       "       [-2.74267120e-06],\n",
       "       [-2.73194723e-06],\n",
       "       [-2.72113682e-06],\n",
       "       [-2.71013457e-06],\n",
       "       [-2.69927162e-06],\n",
       "       [-2.68823424e-06],\n",
       "       [-2.67760222e-06],\n",
       "       [-2.66681258e-06],\n",
       "       [-2.65596246e-06],\n",
       "       [-2.64504818e-06],\n",
       "...\n",
       "       [ 7.79471097e-07],\n",
       "       [ 7.92422575e-07],\n",
       "       [ 8.05536413e-07],\n",
       "       [ 8.18628715e-07],\n",
       "       [ 8.31690164e-07],\n",
       "       [ 8.44578562e-07],\n",
       "       [ 8.57650626e-07],\n",
       "       [ 8.70340008e-07],\n",
       "       [ 8.83331656e-07],\n",
       "       [ 8.96336974e-07],\n",
       "       [ 9.09253170e-07],\n",
       "       [ 9.22160889e-07],\n",
       "       [ 9.35178885e-07],\n",
       "       [ 9.48120970e-07],\n",
       "       [ 9.61007764e-07],\n",
       "       [ 9.74108008e-07],\n",
       "       [ 9.86986631e-07],\n",
       "       [ 9.99823328e-07],\n",
       "       [ 1.01285033e-06],\n",
       "       [ 1.02574194e-06]])</pre></div></li></ul></div></li><li class='xr-section-item'><input id='section-0fbc2fd1-3cb9-4df7-9274-649008f48459' class='xr-section-summary-in' type='checkbox'  ><label for='section-0fbc2fd1-3cb9-4df7-9274-649008f48459' class='xr-section-summary' >Indexes: <span>(2)</span></label><div class='xr-section-inline-details'></div><div class='xr-section-details'><ul class='xr-var-list'><li class='xr-var-item'><div class='xr-index-name'><div>z-axis</div></div><div class='xr-index-preview'>PandasIndex</div><div></div><input id='index-dd207ec4-4863-4b91-b7a1-f886691a3d27' class='xr-index-data-in' type='checkbox'/><label for='index-dd207ec4-4863-4b91-b7a1-f886691a3d27' title='Show/Hide index repr'><svg class='icon xr-icon-database'><use xlink:href='#icon-database'></use></svg></label><div class='xr-index-data'><pre>PandasIndex(Float64Index([               -5.5e-06,  -5.489236163522013e-06,\n",
       "               -5.478472327044025e-06,  -5.467708490566038e-06,\n",
       "              -5.4569446540880506e-06,  -5.446180817610063e-06,\n",
       "              -5.4354169811320755e-06, -5.4246531446540875e-06,\n",
       "                 -5.4138893081761e-06,  -5.403125471698113e-06,\n",
       "              ...\n",
       "               -2.173974528301887e-06, -2.1632106918238994e-06,\n",
       "               -2.152446855345912e-06,  -2.141683018867925e-06,\n",
       "              -2.1309191823899373e-06, -2.1201553459119497e-06,\n",
       "               -2.109391509433962e-06,  -2.098627672955975e-06,\n",
       "              -2.0878638364779875e-06,             -2.0771e-06],\n",
       "             dtype=&#x27;float64&#x27;, name=&#x27;z-axis&#x27;, length=319))</pre></div></li><li class='xr-var-item'><div class='xr-index-name'><div>specpoint</div></div><div class='xr-index-preview'>PandasIndex</div><div></div><input id='index-e6a311a1-83af-42d4-8b3a-e39ad572f41a' class='xr-index-data-in' type='checkbox'/><label for='index-e6a311a1-83af-42d4-8b3a-e39ad572f41a' title='Show/Hide index repr'><svg class='icon xr-icon-database'><use xlink:href='#icon-database'></use></svg></label><div class='xr-index-data'><pre>PandasIndex(Float64Index([1.0], dtype=&#x27;float64&#x27;, name=&#x27;specpoint&#x27;))</pre></div></li></ul></div></li><li class='xr-section-item'><input id='section-61dba0e5-4f9c-41c0-9bd5-4cc541197177' class='xr-section-summary-in' type='checkbox'  checked><label for='section-61dba0e5-4f9c-41c0-9bd5-4cc541197177' class='xr-section-summary' >Attributes: <span>(1)</span></label><div class='xr-section-inline-details'></div><div class='xr-section-details'><dl class='xr-attrs'><dt><span>name :</span></dt><dd>None</dd></dl></div></li></ul></div></div>"
      ],
      "text/plain": [
       "<xarray.Dataset>\n",
       "Dimensions:        (z-axis: 319, specpoint: 1)\n",
       "Coordinates:\n",
       "  * z-axis         (z-axis) float64 -5.5e-06 -5.489e-06 ... -2.077e-06\n",
       "  * specpoint      (specpoint) float64 1.0\n",
       "Data variables:\n",
       "    deflection     (z-axis, specpoint) float64 4.951e-11 1.381e-10 ... 1.505e-08\n",
       "    z-axis sensor  (z-axis, specpoint) float64 -2.844e-06 ... 1.026e-06\n",
       "Attributes:\n",
       "    name:     None"
      ]
     },
     "execution_count": 7,
     "metadata": {},
     "output_type": "execute_result"
    }
   ],
   "source": [
    "forward, backward = data[\"spec forward\"], data[\"spec backward\"]\n",
    "\n",
    "forward"
   ]
  },
  {
   "cell_type": "code",
   "execution_count": 8,
   "metadata": {},
   "outputs": [],
   "source": [
    "def get_z_and_defl(spectroscopy_data: xr.DataArray) -> tuple[ndarray, ndarray]:\n",
    "    piezo_z = spectroscopy_data[\"z-axis sensor\"].to_numpy()\n",
    "    defl = spectroscopy_data[\"deflection\"].to_numpy()\n",
    "    return piezo_z.squeeze(), defl.squeeze()\n",
    "\n",
    "\n",
    "def calc_tip_distance(piezo_z_pos: ndarray, deflection: ndarray) -> ndarray:\n",
    "    return piezo_z_pos - deflection\n",
    "\n",
    "\n",
    "def find_contact_point(distance: ndarray, deflection: ndarray) -> float:\n",
    "    # Right now, only support 1D arrays of tip_distance and tip_deflection\n",
    "    locator = kneed.KneeLocator(\n",
    "        distance,\n",
    "        deflection,\n",
    "        S=10,\n",
    "        curve=\"convex\",\n",
    "        direction=\"increasing\",\n",
    "        interp_method=\"polynomial\",\n",
    "        polynomial_degree=7,\n",
    "    )\n",
    "    return locator.knee\n",
    "\n",
    "\n",
    "def find_contact_point1(deflection: ndarray, N: int) -> ndarray:\n",
    "    # Ratio of Variance\n",
    "    rov = np.array([])\n",
    "    length = np.arange(np.size(deflection))\n",
    "    rov = np.array(\n",
    "        [\n",
    "            np.append(\n",
    "                rov,\n",
    "                np.array(\n",
    "                    [\n",
    "                        np.var(deflection[i + 1 : i + N])\n",
    "                        / np.var(deflection[i - N : i - 1])\n",
    "                    ]\n",
    "                ),\n",
    "            )\n",
    "            for i in length\n",
    "        ]\n",
    "    ).flatten()\n",
    "    rov = rov[N : np.size(rov) - N]\n",
    "    idx = np.argmax(rov)\n",
    "    return rov, idx, rov[idx]\n",
    "\n",
    "\n",
    "def fit_baseline_polynomial(\n",
    "    distance: ndarray, deflection: ndarray, contact_point: float = 0.0, degree: int = 1\n",
    ") -> Polynomial:\n",
    "    pre_contact = distance < contact_point\n",
    "    domain = (np.amin(distance), np.amax(distance))\n",
    "    return Polynomial.fit(\n",
    "        distance[pre_contact], deflection[pre_contact], deg=degree, domain=domain\n",
    "    )"
   ]
  },
  {
   "cell_type": "code",
   "execution_count": 9,
   "metadata": {},
   "outputs": [],
   "source": [
    "z_fwd, defl_fwd = get_z_and_defl(forward)\n",
    "z_bwd, defl_bwd = get_z_and_defl(backward)\n",
    "dist_fwd = calc_tip_distance(z_fwd, defl_fwd)\n",
    "dist_bwd = calc_tip_distance(z_bwd, defl_bwd)\n",
    "cp = find_contact_point(dist_fwd, defl_fwd)"
   ]
  },
  {
   "cell_type": "code",
   "execution_count": 10,
   "metadata": {},
   "outputs": [
    {
     "data": {
      "text/plain": [
       "2.587345257049294e-07"
      ]
     },
     "execution_count": 10,
     "metadata": {},
     "output_type": "execute_result"
    }
   ],
   "source": [
    "cp"
   ]
  },
  {
   "cell_type": "code",
   "execution_count": 11,
   "metadata": {},
   "outputs": [
    {
     "name": "stderr",
     "output_type": "stream",
     "text": [
      "/home/paul/mambaforge/envs/qtc/lib/python3.10/site-packages/numpy/core/fromnumeric.py:3787: RuntimeWarning: Degrees of freedom <= 0 for slice\n",
      "  return _methods._var(a, axis=axis, dtype=dtype, out=out, ddof=ddof,\n",
      "/home/paul/mambaforge/envs/qtc/lib/python3.10/site-packages/numpy/core/_methods.py:163: RuntimeWarning: invalid value encountered in divide\n",
      "  arrmean = um.true_divide(arrmean, div, out=arrmean,\n",
      "/home/paul/mambaforge/envs/qtc/lib/python3.10/site-packages/numpy/core/_methods.py:198: RuntimeWarning: invalid value encountered in scalar divide\n",
      "  ret = ret.dtype.type(ret / rcount)\n"
     ]
    }
   ],
   "source": [
    "# ROV method\n",
    "N = 4\n",
    "rov_fwd = find_contact_point1(defl_fwd, N)[0]\n",
    "idx_fwd = find_contact_point1(defl_fwd, N)[1]\n",
    "rov_fwd_max = find_contact_point1(defl_fwd, N)[2]\n",
    "\n",
    "rov_bwd = find_contact_point1(defl_bwd, N)[0]\n",
    "idx_bwd = find_contact_point1(defl_bwd, N)[1]\n",
    "rov_bwd_max = find_contact_point1(defl_bwd, N)[2]"
   ]
  },
  {
   "cell_type": "code",
   "execution_count": 12,
   "metadata": {},
   "outputs": [
    {
     "data": {
      "text/plain": [
       "Text(0, 0.5, 'ROV')"
      ]
     },
     "execution_count": 12,
     "metadata": {},
     "output_type": "execute_result"
    },
    {
     "data": {
      "image/png": "[encoded data removed]",
      "text/plain": [
       "<Figure size 504x360 with 1 Axes>"
      ]
     },
     "metadata": {
      "needs_background": "light"
     },
     "output_type": "display_data"
    }
   ],
   "source": [
    "fig, ax = plt.subplots(1, 1, figsize=(7, 5))\n",
    "ax.plot(dist_fwd[N : np.size(dist_fwd) - N], find_contact_point1(defl_fwd, N)[0])\n",
    "ax.set_xlabel(\"Distance(forward)\")\n",
    "ax.set_ylabel(\"ROV\")"
   ]
  },
  {
   "cell_type": "code",
   "execution_count": 13,
   "metadata": {},
   "outputs": [
    {
     "data": {
      "text/plain": [
       "<matplotlib.legend.Legend at 0x7fb42c856020>"
      ]
     },
     "execution_count": 13,
     "metadata": {},
     "output_type": "execute_result"
    },
    {
     "data": {
      "image/png": "[encoded data removed]",
      "text/plain": [
       "<Figure size 504x360 with 1 Axes>"
      ]
     },
     "metadata": {
      "needs_background": "light"
     },
     "output_type": "display_data"
    }
   ],
   "source": [
    "fig, ax = plt.subplots(1, 1, figsize=(7, 5))\n",
    "ax.plot(dist_fwd, defl_fwd, label=\"forward\")\n",
    "ax.plot(dist_bwd, defl_bwd, label=\"backward\")\n",
    "ax.legend()"
   ]
  },
  {
   "cell_type": "code",
   "execution_count": 14,
   "metadata": {},
   "outputs": [
    {
     "name": "stdout",
     "output_type": "stream",
     "text": [
      "-1.4820706261219602e-06 -3.4102185295126846e-07\n"
     ]
    }
   ],
   "source": [
    "# Find contact point\n",
    "cp_fwd = dist_fwd[N + idx_fwd]\n",
    "cp_bwd = dist_bwd[N + idx_bwd]\n",
    "print(cp_fwd, cp_bwd)"
   ]
  },
  {
   "cell_type": "code",
   "execution_count": 15,
   "metadata": {},
   "outputs": [],
   "source": [
    "# Translation\n",
    "dist_fwd = dist_fwd - cp_fwd\n",
    "dist_bwd = dist_bwd - cp_fwd"
   ]
  },
  {
   "cell_type": "code",
   "execution_count": 16,
   "metadata": {},
   "outputs": [],
   "source": [
    "# Polynomial fitting\n",
    "baseline_poly_fwd = fit_baseline_polynomial(dist_fwd, defl_fwd)\n",
    "defl_processed_fwd = defl_fwd - baseline_poly_fwd(dist_fwd)\n",
    "baseline_poly_bwd = fit_baseline_polynomial(dist_bwd, defl_bwd)\n",
    "defl_processed_bwd = defl_bwd - baseline_poly_bwd(dist_bwd)"
   ]
  },
  {
   "cell_type": "code",
   "execution_count": 17,
   "metadata": {},
   "outputs": [
    {
     "data": {
      "text/plain": [
       "<matplotlib.legend.Legend at 0x7fb42bba9b10>"
      ]
     },
     "execution_count": 17,
     "metadata": {},
     "output_type": "execute_result"
    },
    {
     "data": {
      "image/png": "[encoded data removed]",
      "text/plain": [
       "<Figure size 504x360 with 1 Axes>"
      ]
     },
     "metadata": {
      "needs_background": "light"
     },
     "output_type": "display_data"
    }
   ],
   "source": [
    "fig, ax = plt.subplots(1, 1, figsize=(7, 5))\n",
    "ax.plot(dist_fwd, defl_fwd, label=\"forward\")\n",
    "ax.plot(dist_bwd, defl_bwd, label=\"backward\")\n",
    "plt.axvline(cp_fwd, color=\"grey\", linestyle=\"--\", linewidth=1)\n",
    "ax.legend()"
   ]
  },
  {
   "cell_type": "code",
   "execution_count": 18,
   "metadata": {},
   "outputs": [
    {
     "data": {
      "text/plain": [
       "<matplotlib.legend.Legend at 0x7fb42bc6a4a0>"
      ]
     },
     "execution_count": 18,
     "metadata": {},
     "output_type": "execute_result"
    },
    {
     "data": {
      "image/png": "[encoded data removed]",
      "text/plain": [
       "<Figure size 504x360 with 1 Axes>"
      ]
     },
     "metadata": {
      "needs_background": "light"
     },
     "output_type": "display_data"
    }
   ],
   "source": [
    "fig, ax = plt.subplots(1, 1, figsize=(7, 5))\n",
    "ax.plot(dist_fwd, defl_processed_fwd, label=\"forward\")\n",
    "ax.plot(dist_bwd, defl_processed_bwd, label=\"backward\")\n",
    "plt.axvline(cp_fwd, color=\"grey\", linestyle=\"--\", linewidth=1)\n",
    "ax.legend()"
   ]
  },
  {
   "cell_type": "code",
   "execution_count": 19,
   "metadata": {},
   "outputs": [
    {
     "data": {
      "text/plain": [
       "<matplotlib.legend.Legend at 0x7fb42bafff70>"
      ]
     },
     "execution_count": 19,
     "metadata": {},
     "output_type": "execute_result"
    },
    {
     "data": {
      "image/png": "[encoded data removed]",
      "text/plain": [
       "<Figure size 504x360 with 1 Axes>"
      ]
     },
     "metadata": {
      "needs_background": "light"
     },
     "output_type": "display_data"
    }
   ],
   "source": [
    "fig, ax = plt.subplots(1, 1, figsize=(7, 5))\n",
    "ax.plot(dist_fwd, z_fwd, label=\"forward\")\n",
    "ax.plot(dist_bwd, z_bwd, label=\"backward\")\n",
    "ax.legend()"
   ]
  },
  {
   "cell_type": "code",
   "execution_count": 20,
   "metadata": {},
   "outputs": [
    {
     "data": {
      "text/plain": [
       "[<matplotlib.lines.Line2D at 0x7fb423833f40>]"
      ]
     },
     "execution_count": 20,
     "metadata": {},
     "output_type": "execute_result"
    },
    {
     "data": {
      "image/png": "[encoded data removed]",
      "text/plain": [
       "<Figure size 504x360 with 2 Axes>"
      ]
     },
     "metadata": {
      "needs_background": "light"
     },
     "output_type": "display_data"
    }
   ],
   "source": [
    "dist_total = np.concatenate((dist_fwd, dist_bwd[::-1]), axis=-1)\n",
    "defl_total = np.concatenate((defl_fwd, defl_bwd[::-1]), axis=-1)\n",
    "is_contact = dist_total >= 0\n",
    "indentation = dist_total[is_contact]\n",
    "k = 0.2  # N/m\n",
    "force = defl_total[is_contact] * k\n",
    "sampling_rate = get_sampling_rate(config)\n",
    "time = np.arange(len(indentation)) / sampling_rate\n",
    "\n",
    "fig, axes = plt.subplots(2, 1, figsize=(7, 5), sharex=True)\n",
    "axes[0].plot(time, indentation)\n",
    "axes[0].set_xlabel(\"Time(s)\")\n",
    "axes[1].set_xlabel(\"Time(s)\")\n",
    "axes[0].set_ylabel(\"Indentation(m)\")\n",
    "axes[1].set_ylabel(\"Force(N)\")\n",
    "axes[1].plot(time, force)"
   ]
  },
  {
   "cell_type": "code",
   "execution_count": 21,
   "metadata": {},
   "outputs": [],
   "source": [
    "max_ind = np.argmax(indentation)\n",
    "t_max = time[max_ind]\n",
    "t_max\n",
    "indent_max = indentation[max_ind]"
   ]
  },
  {
   "cell_type": "code",
   "execution_count": 22,
   "metadata": {},
   "outputs": [
    {
     "data": {
      "text/latex": [
       "$x \\mapsto \\text{-1.26103033e-06} + \\text{0.00083478}\\,x$"
      ],
      "text/plain": [
       "Polynomial([-1.26103033e-06,  8.34776603e-04], domain=[-1.,  1.], window=[-1.,  1.], symbol='x')"
      ]
     },
     "execution_count": 22,
     "metadata": {},
     "output_type": "execute_result"
    }
   ],
   "source": [
    "Polynomial.fit(\n",
    "    time[: max_ind + 1],\n",
    "    indentation[: max_ind + 1],\n",
    "    deg=[\n",
    "        1,\n",
    "    ],\n",
    ").convert()"
   ]
  },
  {
   "cell_type": "code",
   "execution_count": 23,
   "metadata": {},
   "outputs": [
    {
     "data": {
      "text/latex": [
       "$x \\mapsto \\text{3.68676017e-06} - \\text{0.00080005}\\,x$"
      ],
      "text/plain": [
       "Polynomial([ 3.68676017e-06, -8.00051372e-04], domain=[-1.,  1.], window=[-1.,  1.], symbol='x')"
      ]
     },
     "execution_count": 23,
     "metadata": {},
     "output_type": "execute_result"
    }
   ],
   "source": [
    "Polynomial.fit(\n",
    "    time[max_ind + 1 :],\n",
    "    indentation[max_ind + 1 :],\n",
    "    deg=[\n",
    "        1,\n",
    "    ],\n",
    ").convert()"
   ]
  },
  {
   "cell_type": "code",
   "execution_count": 24,
   "metadata": {},
   "outputs": [
    {
     "data": {
      "text/plain": [
       "0.0008325110694360607"
      ]
     },
     "execution_count": 24,
     "metadata": {},
     "output_type": "execute_result"
    }
   ],
   "source": [
    "indent_max / t_max"
   ]
  },
  {
   "cell_type": "code",
   "execution_count": 25,
   "metadata": {},
   "outputs": [
    {
     "data": {
      "text/plain": [
       "0.000796314935982319"
      ]
     },
     "execution_count": 25,
     "metadata": {},
     "output_type": "execute_result"
    }
   ],
   "source": [
    "indent_max / (time[-1] - t_max)"
   ]
  },
  {
   "cell_type": "code",
   "execution_count": 26,
   "metadata": {},
   "outputs": [],
   "source": [
    "v_avg = 2 * indent_max / time[-1]"
   ]
  },
  {
   "cell_type": "code",
   "execution_count": 27,
   "metadata": {},
   "outputs": [],
   "source": [
    "np.savez(\n",
    "    \"./Image00801.npz\",\n",
    "    indentation=indentation,\n",
    "    time=time,\n",
    "    force=force,\n",
    "    v=v_avg,\n",
    "    t_max=t_max,\n",
    ")"
   ]
  },
  {
   "cell_type": "code",
   "execution_count": 28,
   "metadata": {},
   "outputs": [
    {
     "data": {
      "text/plain": [
       "{'spec forward': <xarray.Dataset>\n",
       " Dimensions:        (z-axis: 319, specpoint: 1)\n",
       " Coordinates:\n",
       "   * z-axis         (z-axis) float64 -5.5e-06 -5.489e-06 ... -2.077e-06\n",
       "   * specpoint      (specpoint) float64 1.0\n",
       " Data variables:\n",
       "     deflection     (z-axis, specpoint) float64 4.951e-11 1.381e-10 ... 1.505e-08\n",
       "     z-axis sensor  (z-axis, specpoint) float64 -2.844e-06 ... 1.026e-06\n",
       " Attributes:\n",
       "     name:     None,\n",
       " 'spec backward': <xarray.Dataset>\n",
       " Dimensions:        (z-axis: 310, specpoint: 1)\n",
       " Coordinates:\n",
       "   * z-axis         (z-axis) float64 -5.5e-06 -5.489e-06 ... -2.077e-06\n",
       "   * specpoint      (specpoint) float64 1.0\n",
       " Data variables:\n",
       "     deflection     (z-axis, specpoint) float64 -4.524e-09 ... -3.16e-09\n",
       "     z-axis sensor  (z-axis, specpoint) float64 -2.777e-06 ... 1.03e-06\n",
       " Attributes:\n",
       "     name:     None,\n",
       " 'indentationzsensorfwd0': <xarray.Dataset>\n",
       " Dimensions:                (namex0: 1024, dim1: 1)\n",
       " Coordinates:\n",
       "   * namex0                 (namex0) float64 0.0 0.0 0.0 0.0 ... 0.0 0.0 0.0 0.0\n",
       "   * dim1                   (dim1) float64 0.0\n",
       " Data variables:\n",
       "     tip-sample separation  (namex0, dim1) float64 -3.085e-12 ... -3.085e-12\n",
       " Attributes:\n",
       "     name:     None,\n",
       " 'indentationzsensorbwd0': <xarray.Dataset>\n",
       " Dimensions:                (namex1: 1024, dim1: 1)\n",
       " Coordinates:\n",
       "   * namex1                 (namex1) float64 0.0 0.0 0.0 0.0 ... 0.0 0.0 0.0 0.0\n",
       "   * dim1                   (dim1) float64 0.0\n",
       " Data variables:\n",
       "     tip-sample separation  (namex1, dim1) float64 -2.848e-12 ... -2.848e-12\n",
       " Attributes:\n",
       "     name:     None,\n",
       " 'indentationdeflfwd0': <xarray.Dataset>\n",
       " Dimensions:     (namex2: 1024, dim1: 1)\n",
       " Coordinates:\n",
       "   * namex2      (namex2) float64 0.0 0.0 0.0 0.0 0.0 0.0 ... 0.0 0.0 0.0 0.0 0.0\n",
       "   * dim1        (dim1) float64 0.0\n",
       " Data variables:\n",
       "     deflection  (namex2, dim1) float64 5.914e-17 5.914e-17 ... 5.914e-17\n",
       " Attributes:\n",
       "     name:     None,\n",
       " 'indentationdeflbwd0': <xarray.Dataset>\n",
       " Dimensions:     (namex3: 1024, dim1: 1)\n",
       " Coordinates:\n",
       "   * namex3      (namex3) float64 0.0 0.0 0.0 0.0 0.0 0.0 ... 0.0 0.0 0.0 0.0 0.0\n",
       "   * dim1        (dim1) float64 0.0\n",
       " Data variables:\n",
       "     deflection  (namex3, dim1) float64 5.914e-17 5.914e-17 ... 5.914e-17\n",
       " Attributes:\n",
       "     name:     None,\n",
       " 'slopeout00': <xarray.Dataset>\n",
       " Dimensions:  (namex4: 3, dim1: 1)\n",
       " Coordinates:\n",
       "   * namex4   (namex4) float64 0.0 0.0 0.0\n",
       "   * dim1     (dim1) float64 0.0\n",
       " Data variables:\n",
       "     namez4   (namex4, dim1) float64 7.014e-06 7.014e-06 7.014e-06\n",
       " Attributes:\n",
       "     name:     None,\n",
       " 'slopeout10': <xarray.Dataset>\n",
       " Dimensions:  (namex5: 4, dim1: 1)\n",
       " Coordinates:\n",
       "   * namex5   (namex5) float64 0.0 0.0 0.0 0.0\n",
       "   * dim1     (dim1) float64 0.0\n",
       " Data variables:\n",
       "     namez5   (namex5, dim1) float64 0.002658 0.002658 0.002658 0.002658\n",
       " Attributes:\n",
       "     name:     None,\n",
       " 'slopeout20': <xarray.Dataset>\n",
       " Dimensions:  (namex6: 1, dim1: 16)\n",
       " Coordinates:\n",
       "   * namex6   (namex6) float64 0.0\n",
       "   * dim1     (dim1) float64 0.0 0.06667 0.1333 0.2 ... 0.8 0.8667 0.9333 1.0\n",
       " Data variables:\n",
       "     namez6   (namex6, dim1) float64 -9.638e-09 -9.638e-09 ... -7.439e-09\n",
       " Attributes:\n",
       "     name:     None,\n",
       " 'maxadhesionout00': <xarray.Dataset>\n",
       " Dimensions:  (namex7: 3, dim1: 1)\n",
       " Coordinates:\n",
       "   * namex7   (namex7) float64 0.0 0.0 0.0\n",
       "   * dim1     (dim1) float64 0.0\n",
       " Data variables:\n",
       "     namez7   (namex7, dim1) float64 -5.804e-17 -1.643e-10 7.081e-11\n",
       " Attributes:\n",
       "     name:     None,\n",
       " 'maxadhesionout10': <xarray.Dataset>\n",
       " Dimensions:  (namex8: 1, dim1: 16)\n",
       " Coordinates:\n",
       "   * namex8   (namex8) float64 0.0\n",
       "   * dim1     (dim1) float64 0.0 0.06667 0.1333 0.2 ... 0.8 0.8667 0.9333 1.0\n",
       " Data variables:\n",
       "     namez8   (namex8, dim1) float64 7.473e-16 -1.605e-06 ... -1.638e-06\n",
       " Attributes:\n",
       "     name:     None,\n",
       " 'slopeout01': <xarray.Dataset>\n",
       " Dimensions:  (namex9: 3, dim1: 1)\n",
       " Coordinates:\n",
       "   * namex9   (namex9) float64 0.0 0.0 0.0\n",
       "   * dim1     (dim1) float64 0.0\n",
       " Data variables:\n",
       "     namez9   (namex9, dim1) float64 7.396e-06 7.396e-06 7.396e-06\n",
       " Attributes:\n",
       "     name:     None,\n",
       " 'slopeout11': <xarray.Dataset>\n",
       " Dimensions:  (namex10: 4, dim1: 1)\n",
       " Coordinates:\n",
       "   * namex10  (namex10) float64 0.0 0.0 0.0 0.0\n",
       "   * dim1     (dim1) float64 0.0\n",
       " Data variables:\n",
       "     namez10  (namex10, dim1) float64 0.004769 0.004769 0.004769 0.004769\n",
       " Attributes:\n",
       "     name:     None,\n",
       " 'slopeout21': <xarray.Dataset>\n",
       " Dimensions:  (namex11: 1, dim1: 16)\n",
       " Coordinates:\n",
       "   * namex11  (namex11) float64 0.0\n",
       "   * dim1     (dim1) float64 0.0 0.06667 0.1333 0.2 ... 0.8 0.8667 0.9333 1.0\n",
       " Data variables:\n",
       "     namez11  (namex11, dim1) float64 -2.687e-08 -2.687e-08 ... -2.395e-08\n",
       " Attributes:\n",
       "     name:     None,\n",
       " 'snapinout00': <xarray.Dataset>\n",
       " Dimensions:  (namex12: 3, dim1: 1)\n",
       " Coordinates:\n",
       "   * namex12  (namex12) float64 0.0 0.0 0.0\n",
       "   * dim1     (dim1) float64 0.0\n",
       " Data variables:\n",
       "     namez12  (namex12, dim1) float64 2.391e-16 -1.751e-11 3.558e-11\n",
       " Attributes:\n",
       "     name:     None,\n",
       " 'snapinout10': <xarray.Dataset>\n",
       " Dimensions:  (namex13: 1, dim1: 16)\n",
       " Coordinates:\n",
       "   * namex13  (namex13) float64 0.0\n",
       "   * dim1     (dim1) float64 0.0 0.06667 0.1333 0.2 ... 0.8 0.8667 0.9333 1.0\n",
       " Data variables:\n",
       "     namez13  (namex13, dim1) float64 7.879e-16 -1.692e-06 ... -1.73e-06\n",
       " Attributes:\n",
       "     name:     None,\n",
       " 'scan forward': <xarray.Dataset>\n",
       " Dimensions:        (x*: 256, y*: 256)\n",
       " Coordinates:\n",
       "   * x*             (x*) float64 0.0 3.922e-08 7.843e-08 ... 9.961e-06 1e-05\n",
       "   * y*             (y*) float64 0.0 3.922e-08 7.843e-08 ... 9.961e-06 1e-05\n",
       " Data variables:\n",
       "     deflection     (x*, y*) float64 5.914e-17 5.914e-17 ... 5.914e-17 5.914e-17\n",
       "     z-axis         (x*, y*) float64 1.281e-15 1.281e-15 ... 1.281e-15 1.281e-15\n",
       "     z-axis sensor  (x*, y*) float64 4.773e-15 4.773e-15 ... 4.773e-15 4.773e-15\n",
       " Attributes:\n",
       "     name:     None,\n",
       " 'scan backward': <xarray.Dataset>\n",
       " Dimensions:        (x*: 256, y*: 256)\n",
       " Coordinates:\n",
       "   * x*             (x*) float64 0.0 3.922e-08 7.843e-08 ... 9.961e-06 1e-05\n",
       "   * y*             (y*) float64 0.0 3.922e-08 7.843e-08 ... 9.961e-06 1e-05\n",
       " Data variables:\n",
       "     deflection     (x*, y*) float64 5.914e-17 5.914e-17 ... 5.914e-17 5.914e-17\n",
       "     z-axis         (x*, y*) float64 1.281e-15 1.281e-15 ... 1.281e-15 1.281e-15\n",
       "     z-axis sensor  (x*, y*) float64 4.773e-15 4.773e-15 ... 4.773e-15 4.773e-15\n",
       " Attributes:\n",
       "     name:     None,\n",
       " 'spec fwd pause': <xarray.Dataset>\n",
       " Dimensions:        (dim0: 65534, specpoint: 1)\n",
       " Coordinates:\n",
       "   * dim0           (dim0) float64 0.0 1.526e-05 3.052e-05 ... 1.0 1.0 1.0\n",
       "   * specpoint      (specpoint) float64 1.0\n",
       " Data variables:\n",
       "     deflection     (dim0, specpoint) float64 1.516e-08 1.434e-08 ... -3.136e-09\n",
       "     z-axis sensor  (dim0, specpoint) float64 1.03e-06 1.034e-06 ... 1.03e-06\n",
       " Attributes:\n",
       "     name:     None}"
      ]
     },
     "execution_count": 28,
     "metadata": {},
     "output_type": "execute_result"
    }
   ],
   "source": [
    "forward, backward = data[\"spec forward\"], data[\"spec backward\"]\n",
    "\n",
    "data"
   ]
  },
  {
   "cell_type": "code",
   "execution_count": 29,
   "metadata": {},
   "outputs": [
    {
     "name": "stdout",
     "output_type": "stream",
     "text": [
      "dict_keys(['spec forward', 'spec backward', 'indentationzsensorfwd0', 'indentationzsensorbwd0', 'indentationdeflfwd0', 'indentationdeflbwd0', 'slopeout00', 'slopeout10', 'slopeout20', 'maxadhesionout00', 'maxadhesionout10', 'slopeout01', 'slopeout11', 'slopeout21', 'snapinout00', 'snapinout10', 'scan forward', 'scan backward', 'spec fwd pause'])\n"
     ]
    }
   ],
   "source": [
    "forward, backward = data[\"spec forward\"], data[\"spec backward\"]\n",
    "\n",
    "print(data.keys())"
   ]
  },
  {
   "cell_type": "code",
   "execution_count": 30,
   "metadata": {},
   "outputs": [
    {
     "data": {
      "text/html": [
       "<div><svg style=\"position: absolute; width: 0; height: 0; overflow: hidden\">\n",
       "<defs>\n",
       "<symbol id=\"icon-database\" viewBox=\"0 0 32 32\">\n",
       "<path d=\"M16 0c-8.837 0-16 2.239-16 5v4c0 2.761 7.163 5 16 5s16-2.239 16-5v-4c0-2.761-7.163-5-16-5z\"></path>\n",
       "<path d=\"M16 17c-8.837 0-16-2.239-16-5v6c0 2.761 7.163 5 16 5s16-2.239 16-5v-6c0 2.761-7.163 5-16 5z\"></path>\n",
       "<path d=\"M16 26c-8.837 0-16-2.239-16-5v6c0 2.761 7.163 5 16 5s16-2.239 16-5v-6c0 2.761-7.163 5-16 5z\"></path>\n",
       "</symbol>\n",
       "<symbol id=\"icon-file-text2\" viewBox=\"0 0 32 32\">\n",
       "<path d=\"M28.681 7.159c-0.694-0.947-1.662-2.053-2.724-3.116s-2.169-2.030-3.116-2.724c-1.612-1.182-2.393-1.319-2.841-1.319h-15.5c-1.378 0-2.5 1.121-2.5 2.5v27c0 1.378 1.122 2.5 2.5 2.5h23c1.378 0 2.5-1.122 2.5-2.5v-19.5c0-0.448-0.137-1.23-1.319-2.841zM24.543 5.457c0.959 0.959 1.712 1.825 2.268 2.543h-4.811v-4.811c0.718 0.556 1.584 1.309 2.543 2.268zM28 29.5c0 0.271-0.229 0.5-0.5 0.5h-23c-0.271 0-0.5-0.229-0.5-0.5v-27c0-0.271 0.229-0.5 0.5-0.5 0 0 15.499-0 15.5 0v7c0 0.552 0.448 1 1 1h7v19.5z\"></path>\n",
       "<path d=\"M23 26h-14c-0.552 0-1-0.448-1-1s0.448-1 1-1h14c0.552 0 1 0.448 1 1s-0.448 1-1 1z\"></path>\n",
       "<path d=\"M23 22h-14c-0.552 0-1-0.448-1-1s0.448-1 1-1h14c0.552 0 1 0.448 1 1s-0.448 1-1 1z\"></path>\n",
       "<path d=\"M23 18h-14c-0.552 0-1-0.448-1-1s0.448-1 1-1h14c0.552 0 1 0.448 1 1s-0.448 1-1 1z\"></path>\n",
       "</symbol>\n",
       "</defs>\n",
       "</svg>\n",
       "<style>/* CSS stylesheet for displaying xarray objects in jupyterlab.\n",
       " *\n",
       " */\n",
       "\n",
       ":root {\n",
       "  --xr-font-color0: var(--jp-content-font-color0, rgba(0, 0, 0, 1));\n",
       "  --xr-font-color2: var(--jp-content-font-color2, rgba(0, 0, 0, 0.54));\n",
       "  --xr-font-color3: var(--jp-content-font-color3, rgba(0, 0, 0, 0.38));\n",
       "  --xr-border-color: var(--jp-border-color2, #e0e0e0);\n",
       "  --xr-disabled-color: var(--jp-layout-color3, #bdbdbd);\n",
       "  --xr-background-color: var(--jp-layout-color0, white);\n",
       "  --xr-background-color-row-even: var(--jp-layout-color1, white);\n",
       "  --xr-background-color-row-odd: var(--jp-layout-color2, #eeeeee);\n",
       "}\n",
       "\n",
       "html[theme=dark],\n",
       "body[data-theme=dark],\n",
       "body.vscode-dark {\n",
       "  --xr-font-color0: rgba(255, 255, 255, 1);\n",
       "  --xr-font-color2: rgba(255, 255, 255, 0.54);\n",
       "  --xr-font-color3: rgba(255, 255, 255, 0.38);\n",
       "  --xr-border-color: #1F1F1F;\n",
       "  --xr-disabled-color: #515151;\n",
       "  --xr-background-color: #111111;\n",
       "  --xr-background-color-row-even: #111111;\n",
       "  --xr-background-color-row-odd: #313131;\n",
       "}\n",
       "\n",
       ".xr-wrap {\n",
       "  display: block !important;\n",
       "  min-width: 300px;\n",
       "  max-width: 700px;\n",
       "}\n",
       "\n",
       ".xr-text-repr-fallback {\n",
       "  /* fallback to plain text repr when CSS is not injected (untrusted notebook) */\n",
       "  display: none;\n",
       "}\n",
       "\n",
       ".xr-header {\n",
       "  padding-top: 6px;\n",
       "  padding-bottom: 6px;\n",
       "  margin-bottom: 4px;\n",
       "  border-bottom: solid 1px var(--xr-border-color);\n",
       "}\n",
       "\n",
       ".xr-header > div,\n",
       ".xr-header > ul {\n",
       "  display: inline;\n",
       "  margin-top: 0;\n",
       "  margin-bottom: 0;\n",
       "}\n",
       "\n",
       ".xr-obj-type,\n",
       ".xr-array-name {\n",
       "  margin-left: 2px;\n",
       "  margin-right: 10px;\n",
       "}\n",
       "\n",
       ".xr-obj-type {\n",
       "  color: var(--xr-font-color2);\n",
       "}\n",
       "\n",
       ".xr-sections {\n",
       "  padding-left: 0 !important;\n",
       "  display: grid;\n",
       "  grid-template-columns: 150px auto auto 1fr 20px 20px;\n",
       "}\n",
       "\n",
       ".xr-section-item {\n",
       "  display: contents;\n",
       "}\n",
       "\n",
       ".xr-section-item input {\n",
       "  display: none;\n",
       "}\n",
       "\n",
       ".xr-section-item input + label {\n",
       "  color: var(--xr-disabled-color);\n",
       "}\n",
       "\n",
       ".xr-section-item input:enabled + label {\n",
       "  cursor: pointer;\n",
       "  color: var(--xr-font-color2);\n",
       "}\n",
       "\n",
       ".xr-section-item input:enabled + label:hover {\n",
       "  color: var(--xr-font-color0);\n",
       "}\n",
       "\n",
       ".xr-section-summary {\n",
       "  grid-column: 1;\n",
       "  color: var(--xr-font-color2);\n",
       "  font-weight: 500;\n",
       "}\n",
       "\n",
       ".xr-section-summary > span {\n",
       "  display: inline-block;\n",
       "  padding-left: 0.5em;\n",
       "}\n",
       "\n",
       ".xr-section-summary-in:disabled + label {\n",
       "  color: var(--xr-font-color2);\n",
       "}\n",
       "\n",
       ".xr-section-summary-in + label:before {\n",
       "  display: inline-block;\n",
       "  content: '►';\n",
       "  font-size: 11px;\n",
       "  width: 15px;\n",
       "  text-align: center;\n",
       "}\n",
       "\n",
       ".xr-section-summary-in:disabled + label:before {\n",
       "  color: var(--xr-disabled-color);\n",
       "}\n",
       "\n",
       ".xr-section-summary-in:checked + label:before {\n",
       "  content: '▼';\n",
       "}\n",
       "\n",
       ".xr-section-summary-in:checked + label > span {\n",
       "  display: none;\n",
       "}\n",
       "\n",
       ".xr-section-summary,\n",
       ".xr-section-inline-details {\n",
       "  padding-top: 4px;\n",
       "  padding-bottom: 4px;\n",
       "}\n",
       "\n",
       ".xr-section-inline-details {\n",
       "  grid-column: 2 / -1;\n",
       "}\n",
       "\n",
       ".xr-section-details {\n",
       "  display: none;\n",
       "  grid-column: 1 / -1;\n",
       "  margin-bottom: 5px;\n",
       "}\n",
       "\n",
       ".xr-section-summary-in:checked ~ .xr-section-details {\n",
       "  display: contents;\n",
       "}\n",
       "\n",
       ".xr-array-wrap {\n",
       "  grid-column: 1 / -1;\n",
       "  display: grid;\n",
       "  grid-template-columns: 20px auto;\n",
       "}\n",
       "\n",
       ".xr-array-wrap > label {\n",
       "  grid-column: 1;\n",
       "  vertical-align: top;\n",
       "}\n",
       "\n",
       ".xr-preview {\n",
       "  color: var(--xr-font-color3);\n",
       "}\n",
       "\n",
       ".xr-array-preview,\n",
       ".xr-array-data {\n",
       "  padding: 0 5px !important;\n",
       "  grid-column: 2;\n",
       "}\n",
       "\n",
       ".xr-array-data,\n",
       ".xr-array-in:checked ~ .xr-array-preview {\n",
       "  display: none;\n",
       "}\n",
       "\n",
       ".xr-array-in:checked ~ .xr-array-data,\n",
       ".xr-array-preview {\n",
       "  display: inline-block;\n",
       "}\n",
       "\n",
       ".xr-dim-list {\n",
       "  display: inline-block !important;\n",
       "  list-style: none;\n",
       "  padding: 0 !important;\n",
       "  margin: 0;\n",
       "}\n",
       "\n",
       ".xr-dim-list li {\n",
       "  display: inline-block;\n",
       "  padding: 0;\n",
       "  margin: 0;\n",
       "}\n",
       "\n",
       ".xr-dim-list:before {\n",
       "  content: '(';\n",
       "}\n",
       "\n",
       ".xr-dim-list:after {\n",
       "  content: ')';\n",
       "}\n",
       "\n",
       ".xr-dim-list li:not(:last-child):after {\n",
       "  content: ',';\n",
       "  padding-right: 5px;\n",
       "}\n",
       "\n",
       ".xr-has-index {\n",
       "  font-weight: bold;\n",
       "}\n",
       "\n",
       ".xr-var-list,\n",
       ".xr-var-item {\n",
       "  display: contents;\n",
       "}\n",
       "\n",
       ".xr-var-item > div,\n",
       ".xr-var-item label,\n",
       ".xr-var-item > .xr-var-name span {\n",
       "  background-color: var(--xr-background-color-row-even);\n",
       "  margin-bottom: 0;\n",
       "}\n",
       "\n",
       ".xr-var-item > .xr-var-name:hover span {\n",
       "  padding-right: 5px;\n",
       "}\n",
       "\n",
       ".xr-var-list > li:nth-child(odd) > div,\n",
       ".xr-var-list > li:nth-child(odd) > label,\n",
       ".xr-var-list > li:nth-child(odd) > .xr-var-name span {\n",
       "  background-color: var(--xr-background-color-row-odd);\n",
       "}\n",
       "\n",
       ".xr-var-name {\n",
       "  grid-column: 1;\n",
       "}\n",
       "\n",
       ".xr-var-dims {\n",
       "  grid-column: 2;\n",
       "}\n",
       "\n",
       ".xr-var-dtype {\n",
       "  grid-column: 3;\n",
       "  text-align: right;\n",
       "  color: var(--xr-font-color2);\n",
       "}\n",
       "\n",
       ".xr-var-preview {\n",
       "  grid-column: 4;\n",
       "}\n",
       "\n",
       ".xr-index-preview {\n",
       "  grid-column: 2 / 5;\n",
       "  color: var(--xr-font-color2);\n",
       "}\n",
       "\n",
       ".xr-var-name,\n",
       ".xr-var-dims,\n",
       ".xr-var-dtype,\n",
       ".xr-preview,\n",
       ".xr-attrs dt {\n",
       "  white-space: nowrap;\n",
       "  overflow: hidden;\n",
       "  text-overflow: ellipsis;\n",
       "  padding-right: 10px;\n",
       "}\n",
       "\n",
       ".xr-var-name:hover,\n",
       ".xr-var-dims:hover,\n",
       ".xr-var-dtype:hover,\n",
       ".xr-attrs dt:hover {\n",
       "  overflow: visible;\n",
       "  width: auto;\n",
       "  z-index: 1;\n",
       "}\n",
       "\n",
       ".xr-var-attrs,\n",
       ".xr-var-data,\n",
       ".xr-index-data {\n",
       "  display: none;\n",
       "  background-color: var(--xr-background-color) !important;\n",
       "  padding-bottom: 5px !important;\n",
       "}\n",
       "\n",
       ".xr-var-attrs-in:checked ~ .xr-var-attrs,\n",
       ".xr-var-data-in:checked ~ .xr-var-data,\n",
       ".xr-index-data-in:checked ~ .xr-index-data {\n",
       "  display: block;\n",
       "}\n",
       "\n",
       ".xr-var-data > table {\n",
       "  float: right;\n",
       "}\n",
       "\n",
       ".xr-var-name span,\n",
       ".xr-var-data,\n",
       ".xr-index-name div,\n",
       ".xr-index-data,\n",
       ".xr-attrs {\n",
       "  padding-left: 25px !important;\n",
       "}\n",
       "\n",
       ".xr-attrs,\n",
       ".xr-var-attrs,\n",
       ".xr-var-data,\n",
       ".xr-index-data {\n",
       "  grid-column: 1 / -1;\n",
       "}\n",
       "\n",
       "dl.xr-attrs {\n",
       "  padding: 0;\n",
       "  margin: 0;\n",
       "  display: grid;\n",
       "  grid-template-columns: 125px auto;\n",
       "}\n",
       "\n",
       ".xr-attrs dt,\n",
       ".xr-attrs dd {\n",
       "  padding: 0;\n",
       "  margin: 0;\n",
       "  float: left;\n",
       "  padding-right: 10px;\n",
       "  width: auto;\n",
       "}\n",
       "\n",
       ".xr-attrs dt {\n",
       "  font-weight: normal;\n",
       "  grid-column: 1;\n",
       "}\n",
       "\n",
       ".xr-attrs dt:hover span {\n",
       "  display: inline-block;\n",
       "  background: var(--xr-background-color);\n",
       "  padding-right: 10px;\n",
       "}\n",
       "\n",
       ".xr-attrs dd {\n",
       "  grid-column: 2;\n",
       "  white-space: pre-wrap;\n",
       "  word-break: break-all;\n",
       "}\n",
       "\n",
       ".xr-icon-database,\n",
       ".xr-icon-file-text2,\n",
       ".xr-no-icon {\n",
       "  display: inline-block;\n",
       "  vertical-align: middle;\n",
       "  width: 1em;\n",
       "  height: 1.5em !important;\n",
       "  stroke-width: 0;\n",
       "  stroke: currentColor;\n",
       "  fill: currentColor;\n",
       "}\n",
       "</style><pre class='xr-text-repr-fallback'>&lt;xarray.Dataset&gt;\n",
       "Dimensions:        (dim0: 65534, specpoint: 1)\n",
       "Coordinates:\n",
       "  * dim0           (dim0) float64 0.0 1.526e-05 3.052e-05 ... 1.0 1.0 1.0\n",
       "  * specpoint      (specpoint) float64 1.0\n",
       "Data variables:\n",
       "    deflection     (dim0, specpoint) float64 1.516e-08 1.434e-08 ... -3.136e-09\n",
       "    z-axis sensor  (dim0, specpoint) float64 1.03e-06 1.034e-06 ... 1.03e-06\n",
       "Attributes:\n",
       "    name:     None</pre><div class='xr-wrap' style='display:none'><div class='xr-header'><div class='xr-obj-type'>xarray.Dataset</div></div><ul class='xr-sections'><li class='xr-section-item'><input id='section-380f6990-4e9d-4ad0-b6b8-71ba35a48aaf' class='xr-section-summary-in' type='checkbox' disabled ><label for='section-380f6990-4e9d-4ad0-b6b8-71ba35a48aaf' class='xr-section-summary'  title='Expand/collapse section'>Dimensions:</label><div class='xr-section-inline-details'><ul class='xr-dim-list'><li><span class='xr-has-index'>dim0</span>: 65534</li><li><span class='xr-has-index'>specpoint</span>: 1</li></ul></div><div class='xr-section-details'></div></li><li class='xr-section-item'><input id='section-2f65bb20-ea44-4496-81ed-2cf46f587a0b' class='xr-section-summary-in' type='checkbox'  checked><label for='section-2f65bb20-ea44-4496-81ed-2cf46f587a0b' class='xr-section-summary' >Coordinates: <span>(2)</span></label><div class='xr-section-inline-details'></div><div class='xr-section-details'><ul class='xr-var-list'><li class='xr-var-item'><div class='xr-var-name'><span class='xr-has-index'>dim0</span></div><div class='xr-var-dims'>(dim0)</div><div class='xr-var-dtype'>float64</div><div class='xr-var-preview xr-preview'>0.0 1.526e-05 3.052e-05 ... 1.0 1.0</div><input id='attrs-841a9b65-4417-4f8b-8ef9-0a901d4039a0' class='xr-var-attrs-in' type='checkbox' ><label for='attrs-841a9b65-4417-4f8b-8ef9-0a901d4039a0' title='Show/Hide attributes'><svg class='icon xr-icon-file-text2'><use xlink:href='#icon-file-text2'></use></svg></label><input id='data-8155d433-7384-46c4-af21-0f3d580a3301' class='xr-var-data-in' type='checkbox'><label for='data-8155d433-7384-46c4-af21-0f3d580a3301' title='Show/Hide data repr'><svg class='icon xr-icon-database'><use xlink:href='#icon-database'></use></svg></label><div class='xr-var-attrs'><dl class='xr-attrs'><dt><span>unit :</span></dt><dd>None</dd></dl></div><div class='xr-var-data'><pre>array([0.000000e+00, 1.525949e-05, 3.051898e-05, ..., 9.999695e-01,\n",
       "       9.999847e-01, 1.000000e+00])</pre></div></li><li class='xr-var-item'><div class='xr-var-name'><span class='xr-has-index'>specpoint</span></div><div class='xr-var-dims'>(specpoint)</div><div class='xr-var-dtype'>float64</div><div class='xr-var-preview xr-preview'>1.0</div><input id='attrs-ca72fdb5-b265-4ce2-86e1-0a355b78aa34' class='xr-var-attrs-in' type='checkbox' ><label for='attrs-ca72fdb5-b265-4ce2-86e1-0a355b78aa34' title='Show/Hide attributes'><svg class='icon xr-icon-file-text2'><use xlink:href='#icon-file-text2'></use></svg></label><input id='data-8d447f23-c3c9-401e-8ffd-96a5dd118222' class='xr-var-data-in' type='checkbox'><label for='data-8d447f23-c3c9-401e-8ffd-96a5dd118222' title='Show/Hide data repr'><svg class='icon xr-icon-database'><use xlink:href='#icon-database'></use></svg></label><div class='xr-var-attrs'><dl class='xr-attrs'><dt><span>unit :</span></dt><dd>None</dd></dl></div><div class='xr-var-data'><pre>array([1.])</pre></div></li></ul></div></li><li class='xr-section-item'><input id='section-a66fea4d-9676-4f16-a38b-d9010ad6841f' class='xr-section-summary-in' type='checkbox'  checked><label for='section-a66fea4d-9676-4f16-a38b-d9010ad6841f' class='xr-section-summary' >Data variables: <span>(2)</span></label><div class='xr-section-inline-details'></div><div class='xr-section-details'><ul class='xr-var-list'><li class='xr-var-item'><div class='xr-var-name'><span>deflection</span></div><div class='xr-var-dims'>(dim0, specpoint)</div><div class='xr-var-dtype'>float64</div><div class='xr-var-preview xr-preview'>1.516e-08 1.434e-08 ... -3.136e-09</div><input id='attrs-c5c75533-0f40-45f8-ae9a-ff24ae17c7a0' class='xr-var-attrs-in' type='checkbox' ><label for='attrs-c5c75533-0f40-45f8-ae9a-ff24ae17c7a0' title='Show/Hide attributes'><svg class='icon xr-icon-file-text2'><use xlink:href='#icon-file-text2'></use></svg></label><input id='data-9d393ac7-6e69-4075-929b-37cbbe265be9' class='xr-var-data-in' type='checkbox'><label for='data-9d393ac7-6e69-4075-929b-37cbbe265be9' title='Show/Hide data repr'><svg class='icon xr-icon-database'><use xlink:href='#icon-database'></use></svg></label><div class='xr-var-attrs'><dl class='xr-attrs'><dt><span>unit :</span></dt><dd>N</dd></dl></div><div class='xr-var-data'><pre>array([[ 1.51574445e-08],\n",
       "       [ 1.43416104e-08],\n",
       "       [ 1.39503848e-08],\n",
       "       ...,\n",
       "       [-3.14576049e-09],\n",
       "       [-3.13174030e-09],\n",
       "       [-3.13603946e-09]])</pre></div></li><li class='xr-var-item'><div class='xr-var-name'><span>z-axis sensor</span></div><div class='xr-var-dims'>(dim0, specpoint)</div><div class='xr-var-dtype'>float64</div><div class='xr-var-preview xr-preview'>1.03e-06 1.034e-06 ... 1.03e-06</div><input id='attrs-67a89101-eeb1-4e30-8ce4-d0f60a9268f8' class='xr-var-attrs-in' type='checkbox' ><label for='attrs-67a89101-eeb1-4e30-8ce4-d0f60a9268f8' title='Show/Hide attributes'><svg class='icon xr-icon-file-text2'><use xlink:href='#icon-file-text2'></use></svg></label><input id='data-2a90cc05-f844-498b-ad88-968c843c5565' class='xr-var-data-in' type='checkbox'><label for='data-2a90cc05-f844-498b-ad88-968c843c5565' title='Show/Hide data repr'><svg class='icon xr-icon-database'><use xlink:href='#icon-database'></use></svg></label><div class='xr-var-attrs'><dl class='xr-attrs'><dt><span>unit :</span></dt><dd>m</dd></dl></div><div class='xr-var-data'><pre>array([[1.02998497e-06],\n",
       "       [1.03428803e-06],\n",
       "       [1.03225159e-06],\n",
       "       ...,\n",
       "       [1.03022095e-06],\n",
       "       [1.02977358e-06],\n",
       "       [1.02982124e-06]])</pre></div></li></ul></div></li><li class='xr-section-item'><input id='section-f8b95256-7f3d-485c-9bbf-ed1097923e8b' class='xr-section-summary-in' type='checkbox'  ><label for='section-f8b95256-7f3d-485c-9bbf-ed1097923e8b' class='xr-section-summary' >Indexes: <span>(2)</span></label><div class='xr-section-inline-details'></div><div class='xr-section-details'><ul class='xr-var-list'><li class='xr-var-item'><div class='xr-index-name'><div>dim0</div></div><div class='xr-index-preview'>PandasIndex</div><div></div><input id='index-c455b10f-fc77-4851-b3f8-d03de8d15918' class='xr-index-data-in' type='checkbox'/><label for='index-c455b10f-fc77-4851-b3f8-d03de8d15918' title='Show/Hide index repr'><svg class='icon xr-icon-database'><use xlink:href='#icon-database'></use></svg></label><div class='xr-index-data'><pre>PandasIndex(Float64Index([                   0.0,  1.525948758640685e-05,\n",
       "                3.05189751728137e-05, 4.5778462759220545e-05,\n",
       "                6.10379503456274e-05,  7.629743793203424e-05,\n",
       "               9.155692551844109e-05, 0.00010681641310484794,\n",
       "               0.0001220759006912548, 0.00013733538827766164,\n",
       "              ...\n",
       "                  0.9998626646117224,     0.9998779240993088,\n",
       "                  0.9998931835868952,     0.9999084430744816,\n",
       "                   0.999923702562068,     0.9999389620496544,\n",
       "                  0.9999542215372408,     0.9999694810248272,\n",
       "                  0.9999847405124136,                    1.0],\n",
       "             dtype=&#x27;float64&#x27;, name=&#x27;dim0&#x27;, length=65534))</pre></div></li><li class='xr-var-item'><div class='xr-index-name'><div>specpoint</div></div><div class='xr-index-preview'>PandasIndex</div><div></div><input id='index-e28fa4f9-23e6-4f90-bae2-e4b260a0ccf7' class='xr-index-data-in' type='checkbox'/><label for='index-e28fa4f9-23e6-4f90-bae2-e4b260a0ccf7' title='Show/Hide index repr'><svg class='icon xr-icon-database'><use xlink:href='#icon-database'></use></svg></label><div class='xr-index-data'><pre>PandasIndex(Float64Index([1.0], dtype=&#x27;float64&#x27;, name=&#x27;specpoint&#x27;))</pre></div></li></ul></div></li><li class='xr-section-item'><input id='section-f29df3e6-e1d5-4e99-9614-4298c84526bb' class='xr-section-summary-in' type='checkbox'  checked><label for='section-f29df3e6-e1d5-4e99-9614-4298c84526bb' class='xr-section-summary' >Attributes: <span>(1)</span></label><div class='xr-section-inline-details'></div><div class='xr-section-details'><dl class='xr-attrs'><dt><span>name :</span></dt><dd>None</dd></dl></div></li></ul></div></div>"
      ],
      "text/plain": [
       "<xarray.Dataset>\n",
       "Dimensions:        (dim0: 65534, specpoint: 1)\n",
       "Coordinates:\n",
       "  * dim0           (dim0) float64 0.0 1.526e-05 3.052e-05 ... 1.0 1.0 1.0\n",
       "  * specpoint      (specpoint) float64 1.0\n",
       "Data variables:\n",
       "    deflection     (dim0, specpoint) float64 1.516e-08 1.434e-08 ... -3.136e-09\n",
       "    z-axis sensor  (dim0, specpoint) float64 1.03e-06 1.034e-06 ... 1.03e-06\n",
       "Attributes:\n",
       "    name:     None"
      ]
     },
     "execution_count": 30,
     "metadata": {},
     "output_type": "execute_result"
    }
   ],
   "source": [
    "forward, backward = data[\"spec forward\"], data[\"spec backward\"]\n",
    "pause = data[\"spec fwd pause\"]\n",
    "pause"
   ]
  },
  {
   "cell_type": "code",
   "execution_count": 31,
   "metadata": {},
   "outputs": [
    {
     "name": "stdout",
     "output_type": "stream",
     "text": [
      "KeysView(<xarray.Dataset>\n",
      "Dimensions:        (dim0: 65534, specpoint: 1)\n",
      "Coordinates:\n",
      "  * dim0           (dim0) float64 0.0 1.526e-05 3.052e-05 ... 1.0 1.0 1.0\n",
      "  * specpoint      (specpoint) float64 1.0\n",
      "Data variables:\n",
      "    deflection     (dim0, specpoint) float64 1.516e-08 1.434e-08 ... -3.136e-09\n",
      "    z-axis sensor  (dim0, specpoint) float64 1.03e-06 1.034e-06 ... 1.03e-06\n",
      "Attributes:\n",
      "    name:     None)\n"
     ]
    }
   ],
   "source": [
    "forward, backward = data[\"spec forward\"], data[\"spec backward\"]\n",
    "pause = data[\"spec fwd pause\"]\n",
    "print(pause.keys())"
   ]
  },
  {
   "cell_type": "code",
   "execution_count": 32,
   "metadata": {},
   "outputs": [
    {
     "name": "stdout",
     "output_type": "stream",
     "text": [
      "['deflection', 'z-axis sensor']\n"
     ]
    }
   ],
   "source": [
    "forward, backward = data[\"spec forward\"], data[\"spec backward\"]\n",
    "pause = data[\"spec fwd pause\"]\n",
    "print(list(pause.keys()))"
   ]
  },
  {
   "cell_type": "code",
   "execution_count": 33,
   "metadata": {},
   "outputs": [],
   "source": [
    "from configparser import ConfigParser\n",
    "\n",
    "import numpy as np\n",
    "from numpy import ndarray\n",
    "import xarray as xr\n",
    "import kneed\n",
    "from numpy.polynomial.polynomial import Polynomial\n",
    "import matplotlib.pyplot as plt\n",
    "from jhelabtoolkit.io.nanosurf import nanosurf\n",
    "from jhelabtoolkit.utils.plotting import configure_matplotlib_defaults\n",
    "\n",
    "configure_matplotlib_defaults()\n",
    "\n",
    "filepath = \"data/20231110_onion/Image02676.nid\"\n",
    "config, data = nanosurf.read_nid(filepath)"
   ]
  },
  {
   "cell_type": "code",
   "execution_count": 34,
   "metadata": {},
   "outputs": [
    {
     "data": {
      "text/plain": [
       "65536.0"
      ]
     },
     "execution_count": 34,
     "metadata": {},
     "output_type": "execute_result"
    }
   ],
   "source": [
    "def get_sampling_rate(nid_config: ConfigParser) -> float:\n",
    "    spec_config = dict(config[r\"DataSet\\DataSetInfos\\Spec\"])\n",
    "    num_points = int(spec_config[\"data points\"])\n",
    "    # May later use the pint library to parse unitful quantites\n",
    "    modulation_time = float(spec_config[\"modulation time\"].split(\" \")[0])\n",
    "    return num_points / modulation_time\n",
    "\n",
    "get_sampling_rate(config)"
   ]
  },
  {
   "cell_type": "code",
   "execution_count": 35,
   "metadata": {},
   "outputs": [
    {
     "name": "stdout",
     "output_type": "stream",
     "text": [
      "['deflection', 'z-axis sensor']\n"
     ]
    }
   ],
   "source": [
    "forward, backward = data[\"spec forward\"], data[\"spec backward\"]\n",
    "pause = data[\"spec fwd pause\"]\n",
    "print(list(pause.keys()))"
   ]
  },
  {
   "cell_type": "code",
   "execution_count": 36,
   "metadata": {},
   "outputs": [
    {
     "name": "stdout",
     "output_type": "stream",
     "text": [
      "['deflection', 'z-axis sensor']\n"
     ]
    }
   ],
   "source": [
    "forward, backward = data[\"spec forward\"], data[\"spec backward\"]\n",
    "pause = data[\"spec fwd pause\"]\n",
    "print(list(pause.keys()))"
   ]
  },
  {
   "cell_type": "code",
   "execution_count": 37,
   "metadata": {},
   "outputs": [
    {
     "name": "stdout",
     "output_type": "stream",
     "text": [
      "['deflection', 'z-axis sensor']\n"
     ]
    }
   ],
   "source": [
    "forward, backward = data[\"spec forward\"], data[\"spec backward\"]\n",
    "forward_pause, backward_pause = data[\"spec fwd pause\"]\n",
    "print(list(pause.keys()))"
   ]
  },
  {
   "cell_type": "code",
   "execution_count": 38,
   "metadata": {},
   "outputs": [
    {
     "data": {
      "text/plain": [
       "'deflection'"
      ]
     },
     "execution_count": 38,
     "metadata": {},
     "output_type": "execute_result"
    }
   ],
   "source": [
    "forward_pause"
   ]
  },
  {
   "cell_type": "code",
   "execution_count": 39,
   "metadata": {},
   "outputs": [
    {
     "name": "stdout",
     "output_type": "stream",
     "text": [
      "deflection\n"
     ]
    }
   ],
   "source": [
    "print(forward_pause)"
   ]
  },
  {
   "cell_type": "markdown",
   "metadata": {
    "isInteractiveWindowMessageCell": true
   },
   "source": [
    "연결된 커널 없음"
   ]
  }
 ],
 "metadata": {
  "kernelspec": {
   "display_name": "qtc",
   "language": "python",
   "name": "python3"
  },
  "language_info": {
   "name": "python",
   "version": "3.10.8"
  }
 },
 "nbformat": 4,
 "nbformat_minor": 2
}
